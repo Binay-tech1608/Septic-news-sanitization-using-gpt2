{
  "nbformat": 4,
  "nbformat_minor": 0,
  "metadata": {
    "colab": {
      "provenance": [],
      "gpuType": "T4"
    },
    "kernelspec": {
      "name": "python3",
      "display_name": "Python 3"
    },
    "language_info": {
      "name": "python"
    },
    "accelerator": "GPU"
  },
  "cells": [
    {
      "cell_type": "markdown",
      "source": [
        "Data loading\n"
      ],
      "metadata": {
        "id": "UroSyWC3rLJC"
      }
    },
    {
      "cell_type": "code",
      "source": [
        "import tensorflow as tf\n",
        "%tensorflow_version 2.x\n",
        "!pip install gpt-2-simple\n",
        "import gpt_2_simple as gpt2"
      ],
      "metadata": {
        "colab": {
          "base_uri": "https://localhost:8080/"
        },
        "id": "zQGvVMeQrMFJ",
        "outputId": "78ad343e-d82e-4978-b368-017b53a122c1"
      },
      "execution_count": 1,
      "outputs": [
        {
          "output_type": "stream",
          "name": "stdout",
          "text": [
            "Colab only includes TensorFlow 2.x; %tensorflow_version has no effect.\n",
            "Collecting gpt-2-simple\n",
            "  Downloading gpt_2_simple-0.8.1.tar.gz (26 kB)\n",
            "  Preparing metadata (setup.py) ... \u001b[?25l\u001b[?25hdone\n",
            "Requirement already satisfied: tensorflow>=2.5.1 in /usr/local/lib/python3.10/dist-packages (from gpt-2-simple) (2.15.0)\n",
            "Requirement already satisfied: regex in /usr/local/lib/python3.10/dist-packages (from gpt-2-simple) (2023.12.25)\n",
            "Requirement already satisfied: requests in /usr/local/lib/python3.10/dist-packages (from gpt-2-simple) (2.31.0)\n",
            "Requirement already satisfied: tqdm in /usr/local/lib/python3.10/dist-packages (from gpt-2-simple) (4.66.4)\n",
            "Requirement already satisfied: numpy in /usr/local/lib/python3.10/dist-packages (from gpt-2-simple) (1.25.2)\n",
            "Collecting toposort (from gpt-2-simple)\n",
            "  Downloading toposort-1.10-py3-none-any.whl (8.5 kB)\n",
            "Requirement already satisfied: absl-py>=1.0.0 in /usr/local/lib/python3.10/dist-packages (from tensorflow>=2.5.1->gpt-2-simple) (1.4.0)\n",
            "Requirement already satisfied: astunparse>=1.6.0 in /usr/local/lib/python3.10/dist-packages (from tensorflow>=2.5.1->gpt-2-simple) (1.6.3)\n",
            "Requirement already satisfied: flatbuffers>=23.5.26 in /usr/local/lib/python3.10/dist-packages (from tensorflow>=2.5.1->gpt-2-simple) (24.3.25)\n",
            "Requirement already satisfied: gast!=0.5.0,!=0.5.1,!=0.5.2,>=0.2.1 in /usr/local/lib/python3.10/dist-packages (from tensorflow>=2.5.1->gpt-2-simple) (0.5.4)\n",
            "Requirement already satisfied: google-pasta>=0.1.1 in /usr/local/lib/python3.10/dist-packages (from tensorflow>=2.5.1->gpt-2-simple) (0.2.0)\n",
            "Requirement already satisfied: h5py>=2.9.0 in /usr/local/lib/python3.10/dist-packages (from tensorflow>=2.5.1->gpt-2-simple) (3.9.0)\n",
            "Requirement already satisfied: libclang>=13.0.0 in /usr/local/lib/python3.10/dist-packages (from tensorflow>=2.5.1->gpt-2-simple) (18.1.1)\n",
            "Requirement already satisfied: ml-dtypes~=0.2.0 in /usr/local/lib/python3.10/dist-packages (from tensorflow>=2.5.1->gpt-2-simple) (0.2.0)\n",
            "Requirement already satisfied: opt-einsum>=2.3.2 in /usr/local/lib/python3.10/dist-packages (from tensorflow>=2.5.1->gpt-2-simple) (3.3.0)\n",
            "Requirement already satisfied: packaging in /usr/local/lib/python3.10/dist-packages (from tensorflow>=2.5.1->gpt-2-simple) (24.0)\n",
            "Requirement already satisfied: protobuf!=4.21.0,!=4.21.1,!=4.21.2,!=4.21.3,!=4.21.4,!=4.21.5,<5.0.0dev,>=3.20.3 in /usr/local/lib/python3.10/dist-packages (from tensorflow>=2.5.1->gpt-2-simple) (3.20.3)\n",
            "Requirement already satisfied: setuptools in /usr/local/lib/python3.10/dist-packages (from tensorflow>=2.5.1->gpt-2-simple) (67.7.2)\n",
            "Requirement already satisfied: six>=1.12.0 in /usr/local/lib/python3.10/dist-packages (from tensorflow>=2.5.1->gpt-2-simple) (1.16.0)\n",
            "Requirement already satisfied: termcolor>=1.1.0 in /usr/local/lib/python3.10/dist-packages (from tensorflow>=2.5.1->gpt-2-simple) (2.4.0)\n",
            "Requirement already satisfied: typing-extensions>=3.6.6 in /usr/local/lib/python3.10/dist-packages (from tensorflow>=2.5.1->gpt-2-simple) (4.11.0)\n",
            "Requirement already satisfied: wrapt<1.15,>=1.11.0 in /usr/local/lib/python3.10/dist-packages (from tensorflow>=2.5.1->gpt-2-simple) (1.14.1)\n",
            "Requirement already satisfied: tensorflow-io-gcs-filesystem>=0.23.1 in /usr/local/lib/python3.10/dist-packages (from tensorflow>=2.5.1->gpt-2-simple) (0.37.0)\n",
            "Requirement already satisfied: grpcio<2.0,>=1.24.3 in /usr/local/lib/python3.10/dist-packages (from tensorflow>=2.5.1->gpt-2-simple) (1.63.0)\n",
            "Requirement already satisfied: tensorboard<2.16,>=2.15 in /usr/local/lib/python3.10/dist-packages (from tensorflow>=2.5.1->gpt-2-simple) (2.15.2)\n",
            "Requirement already satisfied: tensorflow-estimator<2.16,>=2.15.0 in /usr/local/lib/python3.10/dist-packages (from tensorflow>=2.5.1->gpt-2-simple) (2.15.0)\n",
            "Requirement already satisfied: keras<2.16,>=2.15.0 in /usr/local/lib/python3.10/dist-packages (from tensorflow>=2.5.1->gpt-2-simple) (2.15.0)\n",
            "Requirement already satisfied: charset-normalizer<4,>=2 in /usr/local/lib/python3.10/dist-packages (from requests->gpt-2-simple) (3.3.2)\n",
            "Requirement already satisfied: idna<4,>=2.5 in /usr/local/lib/python3.10/dist-packages (from requests->gpt-2-simple) (3.7)\n",
            "Requirement already satisfied: urllib3<3,>=1.21.1 in /usr/local/lib/python3.10/dist-packages (from requests->gpt-2-simple) (2.0.7)\n",
            "Requirement already satisfied: certifi>=2017.4.17 in /usr/local/lib/python3.10/dist-packages (from requests->gpt-2-simple) (2024.2.2)\n",
            "Requirement already satisfied: wheel<1.0,>=0.23.0 in /usr/local/lib/python3.10/dist-packages (from astunparse>=1.6.0->tensorflow>=2.5.1->gpt-2-simple) (0.43.0)\n",
            "Requirement already satisfied: google-auth<3,>=1.6.3 in /usr/local/lib/python3.10/dist-packages (from tensorboard<2.16,>=2.15->tensorflow>=2.5.1->gpt-2-simple) (2.27.0)\n",
            "Requirement already satisfied: google-auth-oauthlib<2,>=0.5 in /usr/local/lib/python3.10/dist-packages (from tensorboard<2.16,>=2.15->tensorflow>=2.5.1->gpt-2-simple) (1.2.0)\n",
            "Requirement already satisfied: markdown>=2.6.8 in /usr/local/lib/python3.10/dist-packages (from tensorboard<2.16,>=2.15->tensorflow>=2.5.1->gpt-2-simple) (3.6)\n",
            "Requirement already satisfied: tensorboard-data-server<0.8.0,>=0.7.0 in /usr/local/lib/python3.10/dist-packages (from tensorboard<2.16,>=2.15->tensorflow>=2.5.1->gpt-2-simple) (0.7.2)\n",
            "Requirement already satisfied: werkzeug>=1.0.1 in /usr/local/lib/python3.10/dist-packages (from tensorboard<2.16,>=2.15->tensorflow>=2.5.1->gpt-2-simple) (3.0.3)\n",
            "Requirement already satisfied: cachetools<6.0,>=2.0.0 in /usr/local/lib/python3.10/dist-packages (from google-auth<3,>=1.6.3->tensorboard<2.16,>=2.15->tensorflow>=2.5.1->gpt-2-simple) (5.3.3)\n",
            "Requirement already satisfied: pyasn1-modules>=0.2.1 in /usr/local/lib/python3.10/dist-packages (from google-auth<3,>=1.6.3->tensorboard<2.16,>=2.15->tensorflow>=2.5.1->gpt-2-simple) (0.4.0)\n",
            "Requirement already satisfied: rsa<5,>=3.1.4 in /usr/local/lib/python3.10/dist-packages (from google-auth<3,>=1.6.3->tensorboard<2.16,>=2.15->tensorflow>=2.5.1->gpt-2-simple) (4.9)\n",
            "Requirement already satisfied: requests-oauthlib>=0.7.0 in /usr/local/lib/python3.10/dist-packages (from google-auth-oauthlib<2,>=0.5->tensorboard<2.16,>=2.15->tensorflow>=2.5.1->gpt-2-simple) (1.3.1)\n",
            "Requirement already satisfied: MarkupSafe>=2.1.1 in /usr/local/lib/python3.10/dist-packages (from werkzeug>=1.0.1->tensorboard<2.16,>=2.15->tensorflow>=2.5.1->gpt-2-simple) (2.1.5)\n",
            "Requirement already satisfied: pyasn1<0.7.0,>=0.4.6 in /usr/local/lib/python3.10/dist-packages (from pyasn1-modules>=0.2.1->google-auth<3,>=1.6.3->tensorboard<2.16,>=2.15->tensorflow>=2.5.1->gpt-2-simple) (0.6.0)\n",
            "Requirement already satisfied: oauthlib>=3.0.0 in /usr/local/lib/python3.10/dist-packages (from requests-oauthlib>=0.7.0->google-auth-oauthlib<2,>=0.5->tensorboard<2.16,>=2.15->tensorflow>=2.5.1->gpt-2-simple) (3.2.2)\n",
            "Building wheels for collected packages: gpt-2-simple\n",
            "  Building wheel for gpt-2-simple (setup.py) ... \u001b[?25l\u001b[?25hdone\n",
            "  Created wheel for gpt-2-simple: filename=gpt_2_simple-0.8.1-py3-none-any.whl size=24557 sha256=cbb0ab66853b7f5ff391913df7ca8ec7acd3fad16d897f6a5782608fa3c062ef\n",
            "  Stored in directory: /root/.cache/pip/wheels/df/6a/fe/10d3223f78d1ac3e4c83bb4c5e2d28dfb1789c2fb4cc7ea8d0\n",
            "Successfully built gpt-2-simple\n",
            "Installing collected packages: toposort, gpt-2-simple\n",
            "Successfully installed gpt-2-simple-0.8.1 toposort-1.10\n"
          ]
        }
      ]
    },
    {
      "cell_type": "code",
      "source": [
        "import pandas as pd\n",
        "data = pd.read_excel(\"/content/drive/MyDrive/English_septic_pure_news_sentences.xlsx\")\n",
        "def clean(sentence):\n",
        "  characters_to_remove = \"<>[]\"\n",
        "  translation = str.maketrans(\"\",\"\",characters_to_remove)\n",
        "  return sentence.translate(translation)\n",
        "modified_string = []\n",
        "modified_pure_string = []\n",
        "for i in range(len(data['SEPTIC SENTENCE'])):\n",
        "  modified_string.append(clean(data['SEPTIC SENTENCE'][i]))\n",
        "for i in range(len(data['PURE SENTENCE'])):\n",
        "  modified_pure_string.append(clean(data['PURE SENTENCE'][i]))\n",
        "data['cleaned_septic'] = modified_string #input\n",
        "data['cleaned_pure'] = modified_pure_string #output"
      ],
      "metadata": {
        "id": "CTxyhVlj8NhF"
      },
      "execution_count": 2,
      "outputs": []
    },
    {
      "cell_type": "code",
      "source": [
        "from google.colab import drive\n",
        "drive.mount('/content/drive')"
      ],
      "metadata": {
        "colab": {
          "base_uri": "https://localhost:8080/"
        },
        "id": "5js9VeXr8Rc_",
        "outputId": "3b1e69f1-7228-4c9b-f566-5422a45822b8"
      },
      "execution_count": 3,
      "outputs": [
        {
          "output_type": "stream",
          "name": "stdout",
          "text": [
            "Drive already mounted at /content/drive; to attempt to forcibly remount, call drive.mount(\"/content/drive\", force_remount=True).\n"
          ]
        }
      ]
    },
    {
      "cell_type": "code",
      "source": [
        "\n",
        "gpt2.download_gpt2(model_name=\"124M\")"
      ],
      "metadata": {
        "colab": {
          "base_uri": "https://localhost:8080/"
        },
        "id": "V_3QQ20_rK1F",
        "outputId": "d4820e62-a210-4098-b401-e67eadaaac89"
      },
      "execution_count": 4,
      "outputs": [
        {
          "output_type": "stream",
          "name": "stderr",
          "text": [
            "Fetching checkpoint: 1.05Mit [00:00, 3.89Git/s]                                                     \n",
            "Fetching encoder.json: 1.05Mit [00:06, 162kit/s]\n",
            "Fetching hparams.json: 1.05Mit [00:00, 4.18Git/s]                                                   \n",
            "Fetching model.ckpt.data-00000-of-00001: 498Mit [01:05, 7.63Mit/s]                                  \n",
            "Fetching model.ckpt.index: 1.05Mit [00:00, 1.46Git/s]                                               \n",
            "Fetching model.ckpt.meta: 1.05Mit [00:01, 733kit/s]\n",
            "Fetching vocab.bpe: 1.05Mit [00:01, 656kit/s]\n"
          ]
        }
      ]
    },
    {
      "cell_type": "code",
      "source": [
        "preprocessed_file_dir = \"/content/drive/MyDrive/preprocessed_data (2).txt\"\n"
      ],
      "metadata": {
        "id": "WEc5bqmmrKXJ"
      },
      "execution_count": 5,
      "outputs": []
    },
    {
      "cell_type": "code",
      "execution_count": 6,
      "metadata": {
        "colab": {
          "base_uri": "https://localhost:8080/"
        },
        "id": "FJKl8FS7rAqV",
        "outputId": "eb7f718c-c88e-4fcc-fcc0-dd52a92562be"
      },
      "outputs": [
        {
          "output_type": "stream",
          "name": "stdout",
          "text": [
            "Loading checkpoint models/124M/model.ckpt\n",
            "Loading dataset...\n"
          ]
        },
        {
          "output_type": "stream",
          "name": "stderr",
          "text": [
            "100%|██████████| 1/1 [00:01<00:00,  1.47s/it]\n"
          ]
        },
        {
          "output_type": "stream",
          "name": "stdout",
          "text": [
            "dataset has 54373 tokens\n",
            "Training...\n",
            "[10 | 26.06] loss=1.98 avg=1.98\n",
            "[20 | 47.45] loss=1.81 avg=1.89\n",
            "[30 | 69.34] loss=1.66 avg=1.82\n",
            "[40 | 91.82] loss=1.49 avg=1.73\n",
            "[50 | 115.05] loss=1.32 avg=1.65\n",
            "[60 | 138.53] loss=1.30 avg=1.59\n",
            "[70 | 161.52] loss=1.03 avg=1.51\n",
            "[80 | 184.48] loss=0.77 avg=1.41\n",
            "[90 | 207.66] loss=0.63 avg=1.32\n",
            "[100 | 230.89] loss=0.49 avg=1.23\n",
            "[110 | 253.98] loss=0.44 avg=1.16\n",
            "[120 | 277.10] loss=0.33 avg=1.08\n",
            "[130 | 300.25] loss=0.19 avg=1.01\n",
            "[140 | 323.45] loss=0.17 avg=0.95\n",
            "[150 | 346.67] loss=0.21 avg=0.89\n",
            "[160 | 369.85] loss=0.15 avg=0.84\n",
            "[170 | 393.06] loss=0.15 avg=0.80\n",
            "[180 | 416.24] loss=0.09 avg=0.76\n",
            "[190 | 439.43] loss=0.09 avg=0.72\n",
            "[200 | 462.59] loss=0.11 avg=0.69\n",
            "======== SAMPLE 1 ========\n",
            " --> --> the BJP has so far refrained from targeting the Samajwadi Party which is supporting the Shivaism of former chief minister Shivakumar Indira and his government's policies. --> Congress president Rahul Gandhi’s response to the Lok Sabha and state assembly elections was to make fun of the BJP for fielding candidates from their own party. --> Sena party chief Sena Birla Ramachandra said that while addressing a rally in Surat in india, she said that while addressing a rally in india, she said that while addressing a rally in india, she said that while addressing a rally, she said that that that ,”and”she is responsible for the ongoing situation in the state.\n",
            "It may not be easy for Anna University to get the University Grants Commission’ (UGC)’s (UGC-19) assistance in 2018/19, as the school struggled for time keeping the exceptional teacher, who is now in her 70s. --> It may not be easy for Anna University to get the University Grants Commission’ (UGC)’s (UGC-19) assistance in 2018/19, as the school struggled for time keeping the exceptional teacher, who is now in her 70s.\n",
            "notorious gangster Kaushal on Thursday filed a special Section in the IPC which they hoped would be relaxed if police asked in the first place. --> famous gangster Kaushal on Thursday filed a special Section in the IPC which they hoped would be relaxed if police asked in the first place.\n",
            "A prominent Thakur leader in UP, Nashwa Kalanappa, has been charged under new IPC section 604.20 which makes it a big offence for a principal to give false information to a student body. --> A prominent Thakur leader in UP, Nashwa Kalanappa, has been charged in new IPC section 604.20 which makes it a big offence for a principal to give false information to a student body.\n",
            "A prominent Thakur leader in UP, Nashwa Kalanappa, has been arrested under new IPC section 604. --> A prominent Thakur leader in UP, Nashwa Kalanappa, has been arrested under new IPC section 604.\n",
            "The chief ministers of Punjab, Rajasthan, Chhattisgarh and Puducherry, along with state and federal legislatures, urgently need the financial support of the IITs to sustain the pace at which the Congress party is collapsing, said NC Parthasarathy. --> The chief ministers of Punjab, Rajasthan, Chhattisgarh and Puducherry, along with state and federal legislatures, urgently need the financial support of the IITs to sustain the rate at which the Congress party is collapsing, said NC Parthasarathy.\n",
            "Thakur and his party have been continuously on the offensive in the seat-sharing talks, claiming that non-Congress parties in the state are behind the rise in the death tolls caused by the Congress party in the state. --> Thakur and his party have been continuously on the offensive in the seat-sharing talks, claiming that non-Congress parties in the state are behind the rise in the death tolls caused by the Congress party in the state.\n",
            "After a two-day walk-on strike, the sitting Chief Minister had decided to go on long-term injuredling MLA Sachin Pilot after he suffered a broken collarbone when an SA bomber during the flight diverted the plane for Bhopal. --> After a two-day walk-on strike, the sitting Chief Minister had decided to go on long-term injuredling MLA Sachin Pilot after he suffered a broken collarbone when an SA bomber during the flight diverted the plane for Bhopal.\n",
            "After a two-day walk on the banks of the Ganga, Bihari Vajpayee, hunched over, surrounded by security forces, weighed down by a fiery speech in which he said there was no need to expand the gas and electricity supplies along the viaduct which meet the state’s almost 4,000 mbs daily demand. --> After a two-day walk on the banks of the Ganga, Bihari Vajpayee, hunched over, surrounded by security forces, weighed down by a fiery speech in which he said there was no need to expand the gas and electricity supplies along the viaduct which meet the state’s almost 4,000 mbs daily demand.\n",
            "Modi wants the Supreme Court to review the implementation of the Darbhanga Marathwa policy, a senior law minister said Thursday, saying the government is prepared to entertain legal options before taking legal actions against the judges. --> Modi wants the Supreme Court to review the implementation of the Darbhanga Marathwa policy, a senior law minister said Thursday, saying the government is ready to entertain legal options before taking legal actions against the judges.\n",
            "The chief minister said the state is in a difficult situation due\n",
            "\n",
            "[210 | 498.66] loss=0.07 avg=0.65\n",
            "[220 | 521.81] loss=0.09 avg=0.63\n",
            "[230 | 544.94] loss=0.07 avg=0.60\n",
            "[240 | 568.05] loss=0.06 avg=0.57\n",
            "[250 | 591.17] loss=0.06 avg=0.55\n",
            "[260 | 614.31] loss=0.06 avg=0.53\n",
            "[270 | 637.44] loss=0.05 avg=0.51\n",
            "[280 | 660.58] loss=0.06 avg=0.49\n",
            "[290 | 683.71] loss=0.06 avg=0.47\n",
            "[300 | 706.84] loss=0.05 avg=0.46\n",
            "[310 | 729.97] loss=0.06 avg=0.44\n",
            "[320 | 753.06] loss=0.03 avg=0.43\n",
            "[330 | 776.19] loss=0.04 avg=0.41\n",
            "[340 | 799.29] loss=0.05 avg=0.40\n",
            "[350 | 822.40] loss=0.05 avg=0.39\n",
            "[360 | 845.52] loss=0.05 avg=0.38\n",
            "[370 | 868.67] loss=0.03 avg=0.37\n",
            "[380 | 891.84] loss=0.05 avg=0.36\n",
            "[390 | 915.01] loss=0.04 avg=0.35\n",
            "[400 | 938.22] loss=0.06 avg=0.34\n",
            "======== SAMPLE 1 ========\n",
            "Baraliniya Janata Party's (LJP) Khargeep Chavan addressed the gathering saying that while the BJP tries to project itself as a leader in a country, it also needs the support of the Dalits and the Congress.\n",
            "Congress leader Rahul Gandhi on Sunday took to Twitter to slam the LJP government, saying that while the BJP is trying to project itself as a leader in a country, it also needs the support of the Dalits and the Congress.\n",
            "In the morning, the AIMEP had downplayed the pandemic risk, saying that the pandemic would-be chefs were from all walks of life. --> In the morning, the AIMEP had said the pandemic risk was the most important concern in the group , saying that the pandemic would-be chefs were from all walks of life.\n",
            "The LJP is confident that the group will shrug off the LJP government's tough talk and move towards a fair distribution of seats. --> The LJP is confident that the group will move away from the LJP government's tough talk and move towards a fair distribution of seats.\n",
            "However, it turns out that there are limits to how far you can poke fun at the Modi government. --> However, it turns out that there are obligations to how far you can poke fun at the Modi government.\n",
            "The LJP thinks that the BJP is using its popularity as a proxy for its own advantage, and spreading the idea that Modi is a wily huck who is eyeing the life of a councillor. --> The LJP thinks that the BJP is using its popularity as a proxy for its own advantage, and spreading the idea that Modi is a wily huck who is eyeing the life of a councillor.\n",
            "The CM has now directed his forces at Modi, who has refused to take sides in the battle between his people and the BJP. --> The CM has now directed his forces at Modi, who has refused to take sides in the battle between his people and the BJP.\n",
            "The Sikhs working in the Modi government have been a main focus of probe for some time. --> The Sikhs working in the Modi government have been a main focus of investigation for some time.\n",
            "With his followers cranking up their activity in the Lok Sabha and the Assembly with breathtaking pace, Modi has created a huge advantage in the polls. --> With his followers working in the Modi government increasing their activity in the Lok Sabha and the Assembly with amazing pace, Modi has created a huge advantage in the polls.\n",
            "This will be no ordinary poll battle, with a dramatic mix of ego, pride and politics at play. --> This will be no ordinary poll battle, with a huge mix of ego,pride and politics at elections.\n",
            "The grudge match involves a deep personal and political family feud that has raged on for over a decade. --> The unpleasnat match involves a deep personal and political family feud that has rised for over a decade.\n",
            "The Congress also hopes that fielding Manvendra, a prominent Thakur leader, will help to en-cash the anger of Rajputs with the Raje government over several issues. --> The Congress also believes that fielding Manvendra, a prominent Thakur leader, will help to lower the anger of rajputs with the Raje government over several issues.\n",
            "It turns out there is more than one Trump who can employ a few well-chosen words as a poison dart. --> It turns out there is more than one Trump who can employ a few well-chosen words as a powerful weapon.\n",
            "For the past two months, an ego clash between two senior Congress ministers has been threatening the stability of coalition government in the state. --> For the past two months, an competiton with ego between two senior Congress ministers has been fearing the stability of coalition government in the state.\n",
            "Launching a scathing attack on the central government and Prime Minister Narendra Modi over the agrarian crisis, Congress President Rahul Gandhi, who joined the farmers’ protest at the Jantar Mantar in New Delhi on Friday, 30 November, targeted the government for \"favouring industrialists”. --> starting a unpleasant attack on the central government and Prime Minister Narendra Modi over the agrarian crisis, Congress President Rahul Gandhi, who joined the farmers’ protest at the Jantar Mantar in New Delhi on Friday, 30 November, targeted the government for \"favouring industrialists”.\n",
            "Congress President Rahul Gandhi trained his guns on the Modi government while addressing a rally in Jhalawar, Rajasthan on Wednesday, 24 October. --> Congress President Rahul Gandhi trained his people on the Modi government while addressing a rally in Jhalawar, Rajasthan on Wednesday, 24 October.\n",
            "As the ripples of his political imbroglio are felt within his party, there are repercussions. --> As the signs of his political complications are felt within his party, there are repercussions.\n",
            "It is common knowledge that nothing in connection with Lalu Yadav can be ordinary\n",
            "\n",
            "[410 | 975.46] loss=0.04 avg=0.33\n",
            "[420 | 998.56] loss=0.04 avg=0.32\n",
            "[430 | 1021.69] loss=0.04 avg=0.31\n",
            "[440 | 1044.81] loss=0.05 avg=0.31\n",
            "[450 | 1067.94] loss=0.05 avg=0.30\n",
            "[460 | 1091.06] loss=0.05 avg=0.29\n",
            "[470 | 1114.19] loss=0.04 avg=0.29\n",
            "[480 | 1137.34] loss=0.05 avg=0.28\n",
            "[490 | 1160.48] loss=0.05 avg=0.27\n",
            "[500 | 1183.64] loss=0.05 avg=0.27\n",
            "Saving checkpoint/run1/model-500\n",
            "[510 | 1215.98] loss=0.04 avg=0.26\n",
            "[520 | 1239.62] loss=0.04 avg=0.26\n",
            "[530 | 1262.74] loss=0.04 avg=0.25\n",
            "[540 | 1285.74] loss=0.05 avg=0.25\n",
            "[550 | 1308.92] loss=0.05 avg=0.24\n",
            "[560 | 1332.16] loss=0.04 avg=0.24\n",
            "[570 | 1355.31] loss=0.04 avg=0.23\n",
            "[580 | 1378.40] loss=0.05 avg=0.23\n",
            "[590 | 1401.85] loss=0.05 avg=0.22\n",
            "[600 | 1425.08] loss=0.04 avg=0.22\n",
            "======== SAMPLE 1 ========\n",
            " Krishnadas have been raising a very big issue in the last six months about rajas and the police. --> Nirmala Sitharaman, chairperson of Congress called for an all-party parliamentary assembly meet-in with Madhya Pradesh Congress Deputy Chairman Gopinath Mukund Sharma to discuss the situation in the state.\n",
            "India has an GDP of over Rs 3,000,000,000 and a secular fiscal situation. --> India has an GDP of over Rs 3,000,000,000 and a secular fiscal situation.\n",
            "Given the level of tension and grief being felt by both communities, it is important for both parties to resolve their differences comprehensively. --> Given the level of tension and grief being felt by both communities, it is important for both parties to resolve their differences comprehensively.\n",
            "Summary: “This is a very serious situation for India and we are keeping a close eye on it.“\n",
            "The PM also spoke to Chief Minister Uddhav Badal, Union Minister Pon Radhakrishnan, Minister of Home Affairs Satya Pal Malik and Minister of State for Home Yooni Mollah about the deteriorating situation in the country. --> The PM also spoke to Chief Minister Uddhav Badal, Union Minister Pon Radhakrishnan, Minister of Home Affairs Satya Pal Malik about the improving situation in the country.\n",
            "The PM said that improving the situation of the country would be his top priority, and “I would “stronger hold ministers responsible” at the Centre. --> The PM said that improving the situation of the country would be his top priority, and “I would “stronger hold ministers responsible” at the Centre.\n",
            "The PM said that improving the situation of the country would be his top priority, and “I would “stronger hold ministers responsible” at the Centre.\n",
            "The BJP then blamed the government. --> The BJP then made the claim that the government was responsible.\n",
            "All these incidents have put pressure on the yogi. --> All these incidents have given stress on the yogi.\n",
            "Many in the BJP say that the BJP is as frustrated  as the Congress in the propaganda that Modi's wind is blowing across the country. --> Many in the BJP say that the BJP is as irritated as the Congress in the propaganda that Modi's wind is blowing across the country.\n",
            "In the last few days, they have spoken in various ways that have embarrassed the BJP and Modi. --> In the last few days, they have spoken in various ways that have felt the BJP and Modi insulted.\n",
            "But all in all, there is no doubt that the BJP is getting muddy during the polls. --> But all in all, there is no doubt that the BJP is working very hard during the polls.\n",
            "Maharashtra is abuzz with Dalit protests. --> Maharashtra is excited with Dalit protests.\n",
            "Thane has also become hot. --> Thane has also become agressive.\n",
            "New Year's Eve is great news for fans. --> New Year's Eve is very good news for fans.\n",
            "The protagonist has emphasized on studying along. --> The protagonist has focused on studying along.\n",
            "When this look inside the tunnel, the condition outside is also miserable. --> This look inside the tunnel shows how bad the condition outside as well.\n",
            "The train service has also been greatly affected. --> The train service has also significantly affected.\n",
            "Australia says 94% of people aged over 16 have had at least two COVID­19 vaccinations. --> Australia says 94% of people aged over 16 have had at least two COVID­19 vaccinations.\n",
            "Healthcare services expanded 41% to Rs 3,018 crore, while pharmacy business grew by 16%. --> Healthcare services expanded 41% to Rs 3,018 crore, while pharmacy business grew by 16%.\n",
            "Officials briefed the Prime Minister about the emerging International Monetary Fund–G Fund–manducia scenario, in which the world's economies are grappling with recovery after the global financial crisis of 2008. --> The Prime Minister was informed by officials about the new International Monetary Fund–G Fund–manducia scenario, in which the world's economies are struggling with recovery after the global financial crisis of 2008.\n",
            "Work with States Mr.Modi directed officials to ensure that the health systems in the States, beginning from the the district­level, were strengthened to meet any challenge posed by the new variant. --> Mr.Modi directed officials to work with states and to ensure that the health systems in the States, starting from the the district­level, were strengthened enough to meet any challenge posed by the new variant.\n",
            "The Chief Minister said Delhi was largely safe from the virus and the government was prepared to deal with the Omicron variant at every level. --> The Chief Minister said Delhi was largely safe from the virus and the government was prepared to deal with the Omicron variant at every level.\n",
            "Since antibodies were found in more than 95% of the population in the sero survey, the government aver\n",
            "\n",
            "[610 | 1462.62] loss=0.03 avg=0.22\n",
            "[620 | 1485.99] loss=0.04 avg=0.21\n",
            "[630 | 1509.30] loss=0.04 avg=0.21\n",
            "[640 | 1532.55] loss=0.03 avg=0.21\n",
            "[650 | 1555.95] loss=0.03 avg=0.20\n",
            "[660 | 1579.28] loss=0.04 avg=0.20\n",
            "[670 | 1602.44] loss=0.04 avg=0.20\n",
            "[680 | 1625.58] loss=0.05 avg=0.19\n",
            "[690 | 1648.70] loss=0.03 avg=0.19\n",
            "[700 | 1671.92] loss=0.03 avg=0.19\n",
            "[710 | 1695.07] loss=0.04 avg=0.18\n",
            "[720 | 1718.17] loss=0.04 avg=0.18\n",
            "[730 | 1741.56] loss=0.04 avg=0.18\n",
            "[740 | 1764.76] loss=0.03 avg=0.17\n",
            "[750 | 1787.87] loss=0.04 avg=0.17\n",
            "[760 | 1810.96] loss=0.03 avg=0.17\n",
            "[770 | 1834.06] loss=0.03 avg=0.17\n",
            "[780 | 1857.15] loss=0.02 avg=0.16\n",
            "[790 | 1880.24] loss=0.03 avg=0.16\n",
            "[800 | 1903.36] loss=0.03 avg=0.16\n",
            "Saving checkpoint/run1/model-800\n"
          ]
        },
        {
          "output_type": "stream",
          "name": "stderr",
          "text": [
            "WARNING:tensorflow:From /usr/local/lib/python3.10/dist-packages/tensorflow/python/training/saver.py:1067: remove_checkpoint (from tensorflow.python.checkpoint.checkpoint_management) is deprecated and will be removed in a future version.\n",
            "Instructions for updating:\n",
            "Use standard file APIs to delete files with this prefix.\n"
          ]
        }
      ],
      "source": [
        "\n",
        "# Start TensorFlow session\n",
        "sess = gpt2.start_tf_sess()\n",
        "\n",
        "# Fine-tune the model using the preprocessed data\n",
        "gpt2.finetune(\n",
        "    sess,\n",
        "    dataset=preprocessed_file_dir,\n",
        "    model_name=\"124M\",\n",
        "    steps=800,  # Adjust steps based on your data size and resources\n",
        "    restore_from=\"fresh\",\n",
        "    run_name=\"run1\",\n",
        "    print_every=10,\n",
        "    sample_every=200,\n",
        "    save_every=500,\n",
        ")\n",
        "\n"
      ]
    },
    {
      "cell_type": "markdown",
      "source": [],
      "metadata": {
        "id": "ExDhEy3pBtf8"
      }
    },
    {
      "cell_type": "code",
      "source": [
        "# Function to generate a pure sentence from a septic sentence\n",
        "def generate_pure_sentence(septic_sentence):\n",
        "    prompt = f\"{septic_sentence} -->\"\n",
        "    return gpt2.generate(sess, run_name='run1', prefix=prompt, length=50, temperature=0.7, nsamples=1, return_as_list=True)[0]\n",
        "\n",
        "# Example usage\n",
        "septic_sentence = \"There appears to be some disquiet in Arun Jaitley's otherwise uneventful and tranquil politics.\"\n",
        "pure_sentence = generate_pure_sentence(septic_sentence)\n",
        "print(f\"Pure sentence: {pure_sentence}\")\n"
      ],
      "metadata": {
        "colab": {
          "base_uri": "https://localhost:8080/"
        },
        "id": "rsyRITWtsWD5",
        "outputId": "b05b6733-92a1-4ea0-cec0-1182e1153028"
      },
      "execution_count": 7,
      "outputs": [
        {
          "output_type": "stream",
          "name": "stdout",
          "text": [
            "Pure sentence: There appears to be some disquiet in Arun Jaitley's otherwise uneventful and tranquil politics. --> I think Arun Jaitley's generally changing politics may be causing some difficulties in his politics.\n",
            "Given his superb form against the Kings, Nikki is confident she can return to form against the Dravidian juggernaut. --> Given his unexpected form\n"
          ]
        }
      ]
    },
    {
      "cell_type": "code",
      "source": [
        "# Loop through each row in the 'cleaned_septic' column\n",
        "output_sentences = []\n",
        "for i in range(60):\n",
        "    # Get the septic sentence from the current row\n",
        "    septic_sentence = data['cleaned_septic'][i]\n",
        "\n",
        "    # Generate the pure sentence using your GPT-2 model\n",
        "    pure_sentence = generate_pure_sentence(septic_sentence)\n",
        "    output_sentences.append(pure_sentence)\n",
        "    # Assign the generated pure sentence to the 'gpt2' column at the current row\n",
        "\n",
        "\n"
      ],
      "metadata": {
        "colab": {
          "base_uri": "https://localhost:8080/",
          "height": 339
        },
        "id": "E_cReFoPseeP",
        "outputId": "4fa5ef05-97e2-4967-e14a-b5f214e12125"
      },
      "execution_count": 8,
      "outputs": [
        {
          "output_type": "error",
          "ename": "ValueError",
          "evalue": "Length of values (60) does not match length of index (905)",
          "traceback": [
            "\u001b[0;31m---------------------------------------------------------------------------\u001b[0m",
            "\u001b[0;31mValueError\u001b[0m                                Traceback (most recent call last)",
            "\u001b[0;32m<ipython-input-8-7cb2a9ad204b>\u001b[0m in \u001b[0;36m<cell line: 12>\u001b[0;34m()\u001b[0m\n\u001b[1;32m     10\u001b[0m     \u001b[0;31m# Assign the generated pure sentence to the 'gpt2' column at the current row\u001b[0m\u001b[0;34m\u001b[0m\u001b[0;34m\u001b[0m\u001b[0m\n\u001b[1;32m     11\u001b[0m \u001b[0;34m\u001b[0m\u001b[0m\n\u001b[0;32m---> 12\u001b[0;31m \u001b[0mdata\u001b[0m\u001b[0;34m[\u001b[0m\u001b[0;34m'gpt2'\u001b[0m\u001b[0;34m]\u001b[0m \u001b[0;34m=\u001b[0m \u001b[0moutput_sentences\u001b[0m\u001b[0;34m\u001b[0m\u001b[0;34m\u001b[0m\u001b[0m\n\u001b[0m\u001b[1;32m     13\u001b[0m \u001b[0;34m\u001b[0m\u001b[0m\n",
            "\u001b[0;32m/usr/local/lib/python3.10/dist-packages/pandas/core/frame.py\u001b[0m in \u001b[0;36m__setitem__\u001b[0;34m(self, key, value)\u001b[0m\n\u001b[1;32m   3948\u001b[0m         \u001b[0;32melse\u001b[0m\u001b[0;34m:\u001b[0m\u001b[0;34m\u001b[0m\u001b[0;34m\u001b[0m\u001b[0m\n\u001b[1;32m   3949\u001b[0m             \u001b[0;31m# set column\u001b[0m\u001b[0;34m\u001b[0m\u001b[0;34m\u001b[0m\u001b[0m\n\u001b[0;32m-> 3950\u001b[0;31m             \u001b[0mself\u001b[0m\u001b[0;34m.\u001b[0m\u001b[0m_set_item\u001b[0m\u001b[0;34m(\u001b[0m\u001b[0mkey\u001b[0m\u001b[0;34m,\u001b[0m \u001b[0mvalue\u001b[0m\u001b[0;34m)\u001b[0m\u001b[0;34m\u001b[0m\u001b[0;34m\u001b[0m\u001b[0m\n\u001b[0m\u001b[1;32m   3951\u001b[0m \u001b[0;34m\u001b[0m\u001b[0m\n\u001b[1;32m   3952\u001b[0m     \u001b[0;32mdef\u001b[0m \u001b[0m_setitem_slice\u001b[0m\u001b[0;34m(\u001b[0m\u001b[0mself\u001b[0m\u001b[0;34m,\u001b[0m \u001b[0mkey\u001b[0m\u001b[0;34m:\u001b[0m \u001b[0mslice\u001b[0m\u001b[0;34m,\u001b[0m \u001b[0mvalue\u001b[0m\u001b[0;34m)\u001b[0m \u001b[0;34m->\u001b[0m \u001b[0;32mNone\u001b[0m\u001b[0;34m:\u001b[0m\u001b[0;34m\u001b[0m\u001b[0;34m\u001b[0m\u001b[0m\n",
            "\u001b[0;32m/usr/local/lib/python3.10/dist-packages/pandas/core/frame.py\u001b[0m in \u001b[0;36m_set_item\u001b[0;34m(self, key, value)\u001b[0m\n\u001b[1;32m   4141\u001b[0m         \u001b[0mensure\u001b[0m \u001b[0mhomogeneity\u001b[0m\u001b[0;34m.\u001b[0m\u001b[0;34m\u001b[0m\u001b[0;34m\u001b[0m\u001b[0m\n\u001b[1;32m   4142\u001b[0m         \"\"\"\n\u001b[0;32m-> 4143\u001b[0;31m         \u001b[0mvalue\u001b[0m \u001b[0;34m=\u001b[0m \u001b[0mself\u001b[0m\u001b[0;34m.\u001b[0m\u001b[0m_sanitize_column\u001b[0m\u001b[0;34m(\u001b[0m\u001b[0mvalue\u001b[0m\u001b[0;34m)\u001b[0m\u001b[0;34m\u001b[0m\u001b[0;34m\u001b[0m\u001b[0m\n\u001b[0m\u001b[1;32m   4144\u001b[0m \u001b[0;34m\u001b[0m\u001b[0m\n\u001b[1;32m   4145\u001b[0m         if (\n",
            "\u001b[0;32m/usr/local/lib/python3.10/dist-packages/pandas/core/frame.py\u001b[0m in \u001b[0;36m_sanitize_column\u001b[0;34m(self, value)\u001b[0m\n\u001b[1;32m   4868\u001b[0m \u001b[0;34m\u001b[0m\u001b[0m\n\u001b[1;32m   4869\u001b[0m         \u001b[0;32mif\u001b[0m \u001b[0mis_list_like\u001b[0m\u001b[0;34m(\u001b[0m\u001b[0mvalue\u001b[0m\u001b[0;34m)\u001b[0m\u001b[0;34m:\u001b[0m\u001b[0;34m\u001b[0m\u001b[0;34m\u001b[0m\u001b[0m\n\u001b[0;32m-> 4870\u001b[0;31m             \u001b[0mcom\u001b[0m\u001b[0;34m.\u001b[0m\u001b[0mrequire_length_match\u001b[0m\u001b[0;34m(\u001b[0m\u001b[0mvalue\u001b[0m\u001b[0;34m,\u001b[0m \u001b[0mself\u001b[0m\u001b[0;34m.\u001b[0m\u001b[0mindex\u001b[0m\u001b[0;34m)\u001b[0m\u001b[0;34m\u001b[0m\u001b[0;34m\u001b[0m\u001b[0m\n\u001b[0m\u001b[1;32m   4871\u001b[0m         \u001b[0;32mreturn\u001b[0m \u001b[0msanitize_array\u001b[0m\u001b[0;34m(\u001b[0m\u001b[0mvalue\u001b[0m\u001b[0;34m,\u001b[0m \u001b[0mself\u001b[0m\u001b[0;34m.\u001b[0m\u001b[0mindex\u001b[0m\u001b[0;34m,\u001b[0m \u001b[0mcopy\u001b[0m\u001b[0;34m=\u001b[0m\u001b[0;32mTrue\u001b[0m\u001b[0;34m,\u001b[0m \u001b[0mallow_2d\u001b[0m\u001b[0;34m=\u001b[0m\u001b[0;32mTrue\u001b[0m\u001b[0;34m)\u001b[0m\u001b[0;34m\u001b[0m\u001b[0;34m\u001b[0m\u001b[0m\n\u001b[1;32m   4872\u001b[0m \u001b[0;34m\u001b[0m\u001b[0m\n",
            "\u001b[0;32m/usr/local/lib/python3.10/dist-packages/pandas/core/common.py\u001b[0m in \u001b[0;36mrequire_length_match\u001b[0;34m(data, index)\u001b[0m\n\u001b[1;32m    574\u001b[0m     \"\"\"\n\u001b[1;32m    575\u001b[0m     \u001b[0;32mif\u001b[0m \u001b[0mlen\u001b[0m\u001b[0;34m(\u001b[0m\u001b[0mdata\u001b[0m\u001b[0;34m)\u001b[0m \u001b[0;34m!=\u001b[0m \u001b[0mlen\u001b[0m\u001b[0;34m(\u001b[0m\u001b[0mindex\u001b[0m\u001b[0;34m)\u001b[0m\u001b[0;34m:\u001b[0m\u001b[0;34m\u001b[0m\u001b[0;34m\u001b[0m\u001b[0m\n\u001b[0;32m--> 576\u001b[0;31m         raise ValueError(\n\u001b[0m\u001b[1;32m    577\u001b[0m             \u001b[0;34m\"Length of values \"\u001b[0m\u001b[0;34m\u001b[0m\u001b[0;34m\u001b[0m\u001b[0m\n\u001b[1;32m    578\u001b[0m             \u001b[0;34mf\"({len(data)}) \"\u001b[0m\u001b[0;34m\u001b[0m\u001b[0;34m\u001b[0m\u001b[0m\n",
            "\u001b[0;31mValueError\u001b[0m: Length of values (60) does not match length of index (905)"
          ]
        }
      ]
    },
    {
      "cell_type": "code",
      "source": [
        "output_sentences"
      ],
      "metadata": {
        "colab": {
          "base_uri": "https://localhost:8080/"
        },
        "id": "293uOzpNeySt",
        "outputId": "71d346ec-c9cd-4735-fb83-df1e88890ddf"
      },
      "execution_count": 61,
      "outputs": [
        {
          "output_type": "execute_result",
          "data": {
            "text/plain": [
              "[\"There appears to be some disquiet in Arun Jaitley's otherwise uneventful and tranquil politics. --> There appears to be some disquiet in Arun Jaitley's otherwise uneventful and tranquil politics.\\nGiven his superbly well-reasoned judgement in (concerning the appointment of non-Brahmin in Tamil Nadu) one would\",\n",
              " \"West Indies batting great Brian Lara is impressed with Rishabh Pant's much-improved off-side play, --> In his own half, --> He was very good at giving Rishabh pant's much improved off-side play,\\nIndia have suffered a setback in their preparations for the eagerly-awaited four-Test series in Australia, --> India have suffered\",\n",
              " 'India cannot be complacent while dealing with the possible spread of COVID-19. --> I think It could be argued that the general feeling of the country is that the pandemic was a very bad deal for the country, and it will only get worse. --> I think The defence minister, Ashton on Monday, 23 June, said that',\n",
              " 'Their mischiefs, throwing their weight around you and you fighting with them like sworn enemies make for memories of a lifetime. --> I think that The Indian people are not prepared for such a rude behaviour from a Prime Minister --> Indian citizens are not prepared for such a rude behaviour from a Prime Minister\\nFilmmaker Amberdeep Singh has doled out several hard scripts and detailed storylines',\n",
              " 'For the generation that grew up in the 1990s, Padayappa is one of the quintessential Rajinikanth films. --> I think Padayappa of Rajinikanth films is one of the very important Rajinikanth films.\\nThe RJD leaders have adopted new tactics to beat the Covid protocols in Jharkhand. --> The RJD leaders have',\n",
              " 'The RJD leaders have adopted new tactics to beat the Covid protocols in Jharkhand. --> I think RJD leaders have adopted new method to beat the Covid protocols in Jharkhand.\\nUnable to take the mental torture anymore, the woman who lives in Gandhinagar area of Jamnagar approached the police. --> Unable',\n",
              " 'Unable to take the mental torture anymore, the woman who lives in Gandhinagar area of Jamnagar approached the police. --> Unable to take the mental pain anymore, the woman who lives in Gandhinagar area of Jamnagar approached the police.\\nIf it does well, it will not create job opportunities in the sector itself but also in the industries that depend on it',\n",
              " 'If it does well, it will not create job opportunities in the sector itself but also in the industries that depend on it. --> It will not make the sector more productive in the sector itself but also in the industries that depend on it.\\nBharatiya Janata Party is all set to derive political mileage out of the controversial CD which was part of its campaign material for',\n",
              " 'Mahra accused the CAU authorities of “favouritsim” in the team selections and also selecting “undeserving players.” --> It is being viewed in the legal community as a genuine shock that the decision hasn’t been made immediately.\\nThe decision not to contest from her treble was seen as a recognition that her battle against land acquisition is not without its challenges.',\n",
              " 'a joke has been doing the rounds on social media. --> After school hours, I have been thinking about the idea of doing something different and creating something amazing with my studies.\\nWhat is even more surprising, is that many of the more sordid aspects of what has transpired took place in a private home',\n",
              " 'Patna and several other parts of the state witnessed light to moderate rainfall on Thursday even as weathermen have predicted that light showers, cloudy weather and windy conditions would prevail in the state on Friday as well. --> Chennai Super Kings defeated Sunrisers Hyderabad by 4 runs in a nail biting encounter in Hyderabad on Sunday. --> Chennai Super Kings defeated Sunrisers Hyderabad by 4 runs in a very suspense match in Hyderabad on Sunday.\\nHC Raj',\n",
              " 'After two weeks of uncertainty, new ministers from the Congress-JD(S) coalition were sworn in to the Karnataka cabinet on Wednesday, 6 June. --> Two weeks of uncertainty, new ministers from the Congress-JD(S) coalition were entered in to the Karnataka cabinet on Wednesday, 6 June.\\nApart from often sharing photo shoot pics, dressed in pretty outfits, the actress also shares her dance',\n",
              " 'Apart from often sharing photo shoot pics, dressed in pretty outfits, the actress also shares her dance videos with her fans on social media. --> Actress also shares her dance videos with her fans on social media.\\nBharatiya Janata Party is all set to derive political mileage out of the controversial CD which was part of its campaign material for the ensuing assembly elections. --> Bharatiya',\n",
              " \"It's not for nothing that the wily pacer is one of the most feared death-over specialist. --> For years, the cold war between Vasundhara Raje and the Jaswant Singh family has been the heart of Indian public debate.\\nThis hilarious campaign ad shows voters how they can avoid scandalous elected officials. --> This funny campaign ad shows\",\n",
              " 'On Wednesday, metal wreckage found in Choutan in Barmer sent the entire security establishment into a tizzy. --> On Wednesday, metal wreckage found in Choutan in Barmer sent the entire security establishment into a tension.\\nIn Bhagalpur the centre of attraction will be the Vriddheshwari Memorial Park. --> In Bhagalpur',\n",
              " 'In an ambitious effort to get children back into classrooms, BMC has launched an onlineZoom education initiative using its best teacher for each subject in all four mediums - Marathi, Hindi, Urdu and English. --> BMC has tried to get children back to classrooms, by launching an onlineZoom education initiative using its best teacher for each subject in all four mediums - Marathi, Hindi, Urdu and English.\\nMukul Wasnik, who was',\n",
              " 'Mukul Wasnik, who was one of the signatories to the letter for reforms, has found place in the special committee which is otherwise dominated by loyalists. --> Mukul Wasnik, who was one of the signatories to the letter for reforms, has found place in the special committee which could be dominated by loyalists .\\nthe challenge has became bigger for the party. --> the challenge is very big for',\n",
              " 'the challenge has became bigger for the party. --> The leadership of the BJP and Chief Minister Shivraj Singh Chouhan have been in the eye of a storm over the past few days, with many in the party raising its difficulties on the party leadership to the point where it is threatening to take action',\n",
              " \"Politics in Jammu and Kashmir has taken a new turn with talks of an between the Peoples' Democratic Party (PDP), the National Conference (NC) and the Congress. --> I think that the change in environment gives pause to the thinking that changing the mode of transport will somehow change the results.\\nManjhi, who comes from Scheduled Castes like Paswan, has a history of attacking the LJP leadership in\",\n",
              " 'Amid the raging COVID-19 pandemic, there were question marks over the event until BCCI president Sourav Ganguly assured that it would be taking place during the IPL play-offs. --> There were also lingering doubts over the future of the Singles League, with various leaders fielding different teams.\\nAfter creating a huge impact with Alexa Bliss, Nikki is ready to showcase her prowess as a singles competitor as well. --> After a nice partnership',\n",
              " 'After creating a huge impact with Alexa Bliss, Nikki is ready to showcase her prowess as a singles competitor as well. --> Nikki is ready to showcase her prowess as a singles competitor as well.\\nBJP was using its money power and authority to win elections. --> BJP was using its resources to win elections.\\nTens of thousands of farmers have been camped in',\n",
              " 'BJP was using its money power and authority to win elections. --> Both the KP and the CPI are considered as political parties with the latter emerging as the main opposition.\\nBoth the KP and the CPI are considered as political parties with the latter emerging as the main opposition.\\nBoth the KP and the CPI are considered',\n",
              " 'Tens of thousands of farmers have been camped in the freezing cold at the Singhu, Ghazipur, and Tikri borders for the past two months demanding the repeal of laws that they say will destroy livelihoods. --> Tens of thousands of farmers have been camped in the ceasing cold at the Singhu, Ghazipur, and Tikri borders for the past two months demanding the repeal of laws that they say will destroy livelihoods.\\nWith his tweet',\n",
              " 'With his tweet attacking the government, Gandhi tagged a report which said there would be a freeze on creation of new posts except with the approval of the expenditure department. --> His tweet attacking the government, Gandhi tagged a report which said there would be a freeze on creation of new posts except with the approval of the expenditure department.\\nThe news was first reported by Dawn. --> The news was first reported by Dawn.\\n',\n",
              " \"After spending a lot of time at home during the lockdown and after it, Divya Dutta is excited to get back to a busy work schedule and on the shooting floor. --> I think Sachin Tendulkar and his boys were completely ignoring the warnings he received while shooting in India's T20 league.\\nAfter spending a lot of time at home during the lockdown and after it, Divya Dutta is interested to\",\n",
              " 'Stocks around the world have tumbled on fears of the economic fallout from the outbreak in the world’s second-biggest economy. --> The political disturbance which began in Uttarakhand on Saturday continued on Monday as chief minister Trivendra Singh Rawat rushed to Delhi cancelling his previously-announced engagements in Gairsain and Dehradun. --> The political disturbance which began in',\n",
              " \"BAP has very few potential candidates to replace Chief Minister Kharke. --> Punjab Chief Minister Sushil Kumar Modi has appointed as many as 50,000 new posts in the country's second-biggest economy, barring any unforeseeable events, --> After a suspenseful period that began on Tuesday with the arrest of\",\n",
              " \"Rajasthan Chief Minister Vasundhara Raje, who has been in the eye of a storm due to her government's inaction over the cases of lynching in the state, has claimed that such incidents happen all over the world, and to cite just Rajasthan's example was wrong. --> Rajasthan Chief Minister Vasundhara Raje, who has been in the target due to her government's inaction over the cases of lynching in the state, has claimed that such incidents happen all over the world, and to cite just Raj\",\n",
              " \"It was the BJP’s poll strategy to buy over the people who are elected by the people, with its money power. --> It was the BJP’s poll strategy to convice the people who are elected by the people, with its money power.\\nChirag Paswan's run-in with the government in the state began in March this year when he embarked\",\n",
              " \"Chirag Paswan's run-in with the government in the state began in March this year when he embarked on a ''Bihar First Bihari First'' campaign which was viewed with suspicion by the JD(U). --> Chirag Paswan's run-in with the government in the state began in March this year when he embarked on a ''Bihar First Bihari First'' campaign which was viewed with doubts by the JD(U).\\nWhen 18-\",\n",
              " 'When 18-year-old Mahima Shah learnt that she has scored 79.2% in CBSE Class XII exams, it was a pleasant surprise for her and beyond her expectations. --> Mahima Shah learnt that she has scored 79.2% in CBSE Class XII exams, it was a nice surprise for her and more than she expected\\nhundreds of residents of Kolkata are still struggling to bounce back to life and are',\n",
              " 'hundreds of residents of Kolkata are still struggling to bounce back to life and are pinning their hopes on the Union budget. --> Tens of thousands of residents of Kolkata are still having difficulties to bounce back to life and are pinning their hopes on the Union budget.\\nThe wicket-keeper batsman smashed 148 and the legend of Dhoni was born. --> The',\n",
              " 'The wicket-keeper batsman smashed 148 and the legend of Dhoni was born. --> Sidhu, who joined the Indian team only on Wednesday, 140, hit 148 and the greatest moment of his generation was born.\\nTottenham Hotspur (1) would go on to win the T20 tournament,”then go on to',\n",
              " \"It meant going back to basics and working on areas of players' development that often get overlooked. --> I think it meant going back to basics and working on areas of players' development that so many tiems gets overhyped.\\nManjhi has been meeting Nitish Kumar, who has taken the lead in bringing his former rival into the ruling\",\n",
              " 'Manjhi has been meeting Nitish Kumar, who has taken the lead in bringing his former rival into the ruling alliance. --> After lunching at the Bhaban Singh House, where the two of them had dinner after work on Monday, Chief Minister Mamata Banerjee on Tuesday ordered a massive search operation for the bodies of four boys who drowned off Juhu Chow',\n",
              " \"The Chirag Paswan-headed party has so far refrained from targeting the BJP and has been even praising Prime Minister Narendra Modi's leadership while keeping Nitish Kumar in its crosshairs. --> Many in the BJP say that the BJP is as irritated as the Congress in the propaganda that Modi's wind is blowing across the country.\\nIn doing so the BJP can commonly be seen as reversing a lifetime of by-elections in some states.\",\n",
              " 'This Fourth of July will go down as a memorable day in the history of Delhi. --> On this Fourth of July, the city will be celebrating as a unique day in the history of Delhi.\\nThe appointment of tourism minister CT Ravi and Bengaluru South MP Tejasvi Surya to national-level BJP posts was not particularly',\n",
              " 'The appointment of tourism minister CT Ravi and Bengaluru South MP Tejasvi Surya to national-level BJP posts was not particularly surprising, considering their relative popularity. --> I think the appointment of tourism minister CT Ravi and Bengaluru South MP Tejasvi Surya to national-level BJP posts was not specifically surprising, considering their relative popularity.\\nBreathing down the neck of Samsung while moving ahead of',\n",
              " 'Breathing down the neck of Samsung while moving ahead of Apple last year. --> After a nice partnership with fashion house, Raytheon has decided to move ahead of Samsung this year.\\nHe won the by-polls from Kudlu and Nennela seat-bearers well done. --> He won the by-',\n",
              " 'He backtracked later, issuing a statement in which he denied supporting the resolution. --> Opposition RJD and Congress, however, took on the saffron party for going in \"election mode” at a time the battle against coronavirus is yet to be won in a state where cases are still rising – as of Saturday evening',\n",
              " 'After school hours, Mahima, who has a strong willpower and sharp brain, studies for five hours daily and does exercise for another two-and-a-half-hour. --> Mahima, who was a strong willed and intelligent , studies for five hours daily and does exercise for another two-and-a-half-hour\\nA large number of voters could be seen violating the Covid-19 rules of maintaining distance',\n",
              " 'A large number of voters could be seen violating the Covid-19 rules of maintaining distance and wearing a mask outside polling stations. --> I think There is likely to be much heartburn in the alliance during the seat-sharing talks among its partners for the elections to the 243-seat assembly.\\nThe decision not to contest from Bhowanipore was to blunt BJP barbs',\n",
              " 'The decision not to contest from Bhowanipore was to blunt BJP barbs at her asking her to declare which seat she will represent. --> In what appears to be an insulting move for the Rashtriya Janta Dal (RJD) under 28-year-old Tejashwi Yadav, his open invitation to Union Minister Upendra Kushwaha to quit the NDA and',\n",
              " 'This puts a cloud over his participation at the start of India’s tour of Australia, which is tentatively set to begin on 27 November. --> In what appears to be an embarrassing move for the Rashtriya Janta Dal (RJD) under 28-year-old Tejashwi Yadav, his open invitation to Union Minister Upendra Kushwaha to quit the NDA and',\n",
              " 'Two British Sikh Labour MPs who support the Indian farmers’ agitation against the Centre’s new farm laws have expressed horror at the way “mobs and the police” are trying to clear the three protest sites on Delhi’s borders. --> British Sikh Labour MPs who support the Indian farmers’ agitation against the Centre’s new farm laws have showed their tension at the way “mobs and the police” are trying to clear the three protest sites on Delhi’s',\n",
              " 'KXIP made a disastrous start to their run-chase as they lost two wickets inside five overs. --> Thackeray led by RSS stalwart Bipin, launched a scathing attack on the Thackeray government and Prime Minister Narendra Modi.\\nModi, who made his mark as a Lok Sabha MP with a string of penumbra demands,',\n",
              " 'After month-long social media campaign by Rander people, the Surat Municipal Corporation (SMC) finally woke up to address the woes of the residents. --> I think It may be the beginning of a strange partnership between the two departments, but until then, I reiterate that I am confident in the latter.\\nBattered by the pandemic last year, the Diamond City is hoping for a brighter future riding',\n",
              " 'Battered by the pandemic last year, the Diamond City is hoping for a brighter future riding on three projects that are already refuelling the city’s growth. --> She made a strong start on her comeback trip by hitting the first three balls of the first over, and she gave her all in the second over.\\nThe Diamond City was a very important project for her because it was her birthday! --> The Diamond',\n",
              " \"For city residents, the coming days are not that promising at least when it comes to supply of drinking water. --> I think city residents, the coming days are not that worthy at least when it comes to supply of drinking water.\\nGiven the form Glenn Maxwell has been in this season, it was hardly surprising that he again piloted his team's chase with an\",\n",
              " 'Though people of all communities are suffering all kinds of atrocities under the BJP government in UP, --> people of all communities are getting all kinds of difficulties under the BJP government in UP,\\nPriyanka Gandhi hopes for justice under new Rajasthan law --> Priyanka Gandhi demands for justice under new Rajasthan law\\nMorning walkers and',\n",
              " 'Priyanka Gandhi hopes for justice under new Rajasthan law. --> I think It sounds unfair , but Rajasthan law is very unfair .\\nVivek Gupta At the height of the anti-corruption movement in 2011 (led by Anna Hazare), an article in the by Ashutosh Varshney and',\n",
              " 'Morning walkers and locals frequenting Kudlu Doddakere were on Friday shocked to see tens of thousands of snails dead on the lake bund. --> eye level was very high when she washed up on the market.\\nCountry’s prime minister was busy chasing booths. --> Country’s prime minister was busy for booths.\\nHowever, in the event India is able to host the England',\n",
              " 'Country’s prime minister was busy chasing booths. --> The BJP leader was busy for booths.\\nOn the other hand, the Congress leader was busy for booths. --> On the other hand, the Congress leader was busy for booths.\\nThe Indian men and women team expressed their readiness to play every level',\n",
              " 'However, in the event India is able to host the England team, Mumbai could be the best option to create a bubble with three international venues - Wankhede Stadium, Cricket Club of India and DY Patil Stadium. --> In the event India is able to host the England team, Mumbai could be the best option to make a place with three international venues - Wankhede Stadium, Cricket Club of India and DY Patil Stadium.\\nBut sadly, the market',\n",
              " 'But sadly, the market has been in limbo for a long time. --> I think sadly the market has been in limbo for a long time.\\nIf the Vyapam scam were today, it would be over two decades ago. --> I think If the Vyapam scam were today, it would be over',\n",
              " \"Get started on these dishes and celebrate mangoes in true desi style. --> I think They started with two main aims in mind, one was to show the public that they too could be a part of something amazing.\\nAnd everywhere in this troubled swath of Myanmar's north, there is a growing sense that Beijing is trying to\",\n",
              " 'To go back on set after many months was a great experience for her. --> back on set after many monts was a nice experience for her\\nGermany did many things better in the second match, --> Germany did much better in the second match,\\nEarlier in the day, Nadda launched a scathing attack on the T',\n",
              " 'Germany did many things better in the second match, --> They did a very bad job in the second match,\\nNeanderthal giants may have a new look in an alliance with BJP leader and BJP leader Narendra Modi --> Neanderthal giants may have a new look in an alliance with BJP leader and BJP',\n",
              " \"Earlier in the day, Nadda launched a scathing attack on the TMC government. --> In the morning, Nadda launched a fast attack on the TMC government.\\nCongress President Rahul Gandhi on Monday, 17 September, launched his party's campaign in poll-bound Madhya Pradesh, which is known to be a Bharatiya\",\n",
              " \"Senior BJP leader Shatrughan Sinha, on Sunday, 17 June, was yet again at loggerheads with his own party, this time over Delhi Chief Minister Arvind Kejriwal's ongoing dharma at the Lieutenant Governor's office. --> On Sunday, 17 June, was again at loggerheads with his own party, this time over Delhi Chief Minister Arvind Kejriwal's ongoing dharma at the Lieutenant Governor's office.\\nA fascinating contest is on in Madhya Pradesh. --> A highly\"]"
            ]
          },
          "metadata": {},
          "execution_count": 61
        }
      ]
    },
    {
      "cell_type": "code",
      "source": [
        "text_output = []\n",
        "for i in range(len(output_sentences)):\n",
        "  sentence = output_sentences[i]\n",
        "  index = sentence.find(\"-->\")\n",
        "  text_after_arrow = sentence[index + len(\"-->\") + 1:]\n",
        "  text_output.append(text_after_arrow)\n"
      ],
      "metadata": {
        "id": "NJRb7FAMXcE-"
      },
      "execution_count": 32,
      "outputs": []
    },
    {
      "cell_type": "markdown",
      "source": [
        "Matching of the sentences"
      ],
      "metadata": {
        "id": "iYeN1kYxJIR9"
      }
    },
    {
      "cell_type": "code",
      "source": [
        "import tensorflow as tf\n",
        "import tensorflow_hub as hub\n",
        "import numpy as np\n",
        "\n",
        "# Load the Universal Sentence Encoder\n",
        "embed = hub.load(\"https://tfhub.dev/google/universal-sentence-encoder/4\")\n",
        "\n",
        "def cosine_similarity(embedding1, embedding2):\n",
        "    dot_product = np.dot(embedding1, embedding2)\n",
        "    norm_embedding1 = np.linalg.norm(embedding1)\n",
        "    norm_embedding2 = np.linalg.norm(embedding2)\n",
        "    similarity = dot_product / (norm_embedding1 * norm_embedding2)\n",
        "    return similarity"
      ],
      "metadata": {
        "id": "BF2nvnkVJHzS"
      },
      "execution_count": 35,
      "outputs": []
    },
    {
      "cell_type": "code",
      "source": [
        "import numpy as np\n",
        "import tensorflow as tf\n",
        "from sklearn.metrics.pairwise import cosine_similarity\n",
        "\n",
        "# Assuming 'embed' is a TensorFlow function that computes embeddings\n",
        "# and 'data' is a DataFrame containing 'cleaned_pure' column\n",
        "# and 'output_sentences' is a list of sentences\n",
        "\n",
        "similarity_scores = []\n",
        "\n",
        "for i in range(len(output_sentences)):\n",
        "    sentences = [data['cleaned_pure'][i], output_sentences[i]]\n",
        "    sentence_embeddings = embed(sentences)\n",
        "    similarity = tf.keras.losses.cosine_similarity(sentence_embeddings[0], sentence_embeddings[1])\n",
        "    similarity_scores.append(similarity)\n",
        "\n",
        "print(similarity_scores)\n"
      ],
      "metadata": {
        "colab": {
          "base_uri": "https://localhost:8080/"
        },
        "id": "3EGFKfDF90dY",
        "outputId": "cb5006a1-ec26-4152-c443-22b97f99038f"
      },
      "execution_count": 36,
      "outputs": [
        {
          "output_type": "stream",
          "name": "stdout",
          "text": [
            "[<tf.Tensor 'Neg_241:0' shape=() dtype=float32>, <tf.Tensor 'Neg_242:0' shape=() dtype=float32>, <tf.Tensor 'Neg_243:0' shape=() dtype=float32>, <tf.Tensor 'Neg_244:0' shape=() dtype=float32>, <tf.Tensor 'Neg_245:0' shape=() dtype=float32>, <tf.Tensor 'Neg_246:0' shape=() dtype=float32>, <tf.Tensor 'Neg_247:0' shape=() dtype=float32>, <tf.Tensor 'Neg_248:0' shape=() dtype=float32>, <tf.Tensor 'Neg_249:0' shape=() dtype=float32>, <tf.Tensor 'Neg_250:0' shape=() dtype=float32>, <tf.Tensor 'Neg_251:0' shape=() dtype=float32>, <tf.Tensor 'Neg_252:0' shape=() dtype=float32>, <tf.Tensor 'Neg_253:0' shape=() dtype=float32>, <tf.Tensor 'Neg_254:0' shape=() dtype=float32>, <tf.Tensor 'Neg_255:0' shape=() dtype=float32>, <tf.Tensor 'Neg_256:0' shape=() dtype=float32>, <tf.Tensor 'Neg_257:0' shape=() dtype=float32>, <tf.Tensor 'Neg_258:0' shape=() dtype=float32>, <tf.Tensor 'Neg_259:0' shape=() dtype=float32>, <tf.Tensor 'Neg_260:0' shape=() dtype=float32>, <tf.Tensor 'Neg_261:0' shape=() dtype=float32>, <tf.Tensor 'Neg_262:0' shape=() dtype=float32>, <tf.Tensor 'Neg_263:0' shape=() dtype=float32>, <tf.Tensor 'Neg_264:0' shape=() dtype=float32>, <tf.Tensor 'Neg_265:0' shape=() dtype=float32>, <tf.Tensor 'Neg_266:0' shape=() dtype=float32>, <tf.Tensor 'Neg_267:0' shape=() dtype=float32>, <tf.Tensor 'Neg_268:0' shape=() dtype=float32>, <tf.Tensor 'Neg_269:0' shape=() dtype=float32>, <tf.Tensor 'Neg_270:0' shape=() dtype=float32>, <tf.Tensor 'Neg_271:0' shape=() dtype=float32>, <tf.Tensor 'Neg_272:0' shape=() dtype=float32>, <tf.Tensor 'Neg_273:0' shape=() dtype=float32>, <tf.Tensor 'Neg_274:0' shape=() dtype=float32>, <tf.Tensor 'Neg_275:0' shape=() dtype=float32>, <tf.Tensor 'Neg_276:0' shape=() dtype=float32>, <tf.Tensor 'Neg_277:0' shape=() dtype=float32>, <tf.Tensor 'Neg_278:0' shape=() dtype=float32>, <tf.Tensor 'Neg_279:0' shape=() dtype=float32>, <tf.Tensor 'Neg_280:0' shape=() dtype=float32>, <tf.Tensor 'Neg_281:0' shape=() dtype=float32>, <tf.Tensor 'Neg_282:0' shape=() dtype=float32>, <tf.Tensor 'Neg_283:0' shape=() dtype=float32>, <tf.Tensor 'Neg_284:0' shape=() dtype=float32>, <tf.Tensor 'Neg_285:0' shape=() dtype=float32>, <tf.Tensor 'Neg_286:0' shape=() dtype=float32>, <tf.Tensor 'Neg_287:0' shape=() dtype=float32>, <tf.Tensor 'Neg_288:0' shape=() dtype=float32>, <tf.Tensor 'Neg_289:0' shape=() dtype=float32>, <tf.Tensor 'Neg_290:0' shape=() dtype=float32>, <tf.Tensor 'Neg_291:0' shape=() dtype=float32>, <tf.Tensor 'Neg_292:0' shape=() dtype=float32>, <tf.Tensor 'Neg_293:0' shape=() dtype=float32>, <tf.Tensor 'Neg_294:0' shape=() dtype=float32>, <tf.Tensor 'Neg_295:0' shape=() dtype=float32>, <tf.Tensor 'Neg_296:0' shape=() dtype=float32>, <tf.Tensor 'Neg_297:0' shape=() dtype=float32>, <tf.Tensor 'Neg_298:0' shape=() dtype=float32>, <tf.Tensor 'Neg_299:0' shape=() dtype=float32>, <tf.Tensor 'Neg_300:0' shape=() dtype=float32>]\n"
          ]
        }
      ]
    },
    {
      "cell_type": "code",
      "source": [
        "type(similarity_scores)"
      ],
      "metadata": {
        "colab": {
          "base_uri": "https://localhost:8080/"
        },
        "id": "REuJ9cTmL6FI",
        "outputId": "8dfab94e-e9e3-4520-bb05-77d2faedfdb9"
      },
      "execution_count": 14,
      "outputs": [
        {
          "output_type": "execute_result",
          "data": {
            "text/plain": [
              "list"
            ]
          },
          "metadata": {},
          "execution_count": 14
        }
      ]
    },
    {
      "cell_type": "code",
      "source": [
        "sum(similarity_scores)/len(similarity_scores)"
      ],
      "metadata": {
        "colab": {
          "base_uri": "https://localhost:8080/"
        },
        "id": "mMeOV3PtRAMQ",
        "outputId": "5d2c757f-379a-4c4b-ad8f-5131e6ea4f8b"
      },
      "execution_count": 15,
      "outputs": [
        {
          "output_type": "execute_result",
          "data": {
            "text/plain": [
              "<tf.Tensor 'truediv_1:0' shape=() dtype=float32>"
            ]
          },
          "metadata": {},
          "execution_count": 15
        }
      ]
    },
    {
      "cell_type": "code",
      "source": [
        "import numpy as np\n",
        "import tensorflow as tf\n",
        "from sklearn.metrics.pairwise import cosine_similarity\n",
        "\n",
        "# Assuming 'embed' is a TensorFlow function that computes embeddings\n",
        "# and 'data' is a DataFrame containing 'cleaned_pure' column\n",
        "# and 'output_sentences' is a list of sentences\n",
        "\n",
        "similarity_scores_1 = []\n",
        "\n",
        "for i in range(len(output_sentences)):\n",
        "    sentences = [data['cleaned_septic'][i], output_sentences[i]]\n",
        "    sentence_embeddings = embed(sentences)\n",
        "    similarity = tf.keras.losses.cosine_similarity(sentence_embeddings[0], sentence_embeddings[1])\n",
        "    similarity_scores_1.append(similarity)\n",
        "\n",
        "print(similarity_scores_1)\n"
      ],
      "metadata": {
        "colab": {
          "base_uri": "https://localhost:8080/"
        },
        "id": "WW_mIABxRFYJ",
        "outputId": "e8c1f016-9467-4957-a39f-23e12a264161"
      },
      "execution_count": 18,
      "outputs": [
        {
          "output_type": "stream",
          "name": "stdout",
          "text": [
            "[<tf.Tensor 'Neg_181:0' shape=() dtype=float32>, <tf.Tensor 'Neg_182:0' shape=() dtype=float32>, <tf.Tensor 'Neg_183:0' shape=() dtype=float32>, <tf.Tensor 'Neg_184:0' shape=() dtype=float32>, <tf.Tensor 'Neg_185:0' shape=() dtype=float32>, <tf.Tensor 'Neg_186:0' shape=() dtype=float32>, <tf.Tensor 'Neg_187:0' shape=() dtype=float32>, <tf.Tensor 'Neg_188:0' shape=() dtype=float32>, <tf.Tensor 'Neg_189:0' shape=() dtype=float32>, <tf.Tensor 'Neg_190:0' shape=() dtype=float32>, <tf.Tensor 'Neg_191:0' shape=() dtype=float32>, <tf.Tensor 'Neg_192:0' shape=() dtype=float32>, <tf.Tensor 'Neg_193:0' shape=() dtype=float32>, <tf.Tensor 'Neg_194:0' shape=() dtype=float32>, <tf.Tensor 'Neg_195:0' shape=() dtype=float32>, <tf.Tensor 'Neg_196:0' shape=() dtype=float32>, <tf.Tensor 'Neg_197:0' shape=() dtype=float32>, <tf.Tensor 'Neg_198:0' shape=() dtype=float32>, <tf.Tensor 'Neg_199:0' shape=() dtype=float32>, <tf.Tensor 'Neg_200:0' shape=() dtype=float32>, <tf.Tensor 'Neg_201:0' shape=() dtype=float32>, <tf.Tensor 'Neg_202:0' shape=() dtype=float32>, <tf.Tensor 'Neg_203:0' shape=() dtype=float32>, <tf.Tensor 'Neg_204:0' shape=() dtype=float32>, <tf.Tensor 'Neg_205:0' shape=() dtype=float32>, <tf.Tensor 'Neg_206:0' shape=() dtype=float32>, <tf.Tensor 'Neg_207:0' shape=() dtype=float32>, <tf.Tensor 'Neg_208:0' shape=() dtype=float32>, <tf.Tensor 'Neg_209:0' shape=() dtype=float32>, <tf.Tensor 'Neg_210:0' shape=() dtype=float32>, <tf.Tensor 'Neg_211:0' shape=() dtype=float32>, <tf.Tensor 'Neg_212:0' shape=() dtype=float32>, <tf.Tensor 'Neg_213:0' shape=() dtype=float32>, <tf.Tensor 'Neg_214:0' shape=() dtype=float32>, <tf.Tensor 'Neg_215:0' shape=() dtype=float32>, <tf.Tensor 'Neg_216:0' shape=() dtype=float32>, <tf.Tensor 'Neg_217:0' shape=() dtype=float32>, <tf.Tensor 'Neg_218:0' shape=() dtype=float32>, <tf.Tensor 'Neg_219:0' shape=() dtype=float32>, <tf.Tensor 'Neg_220:0' shape=() dtype=float32>, <tf.Tensor 'Neg_221:0' shape=() dtype=float32>, <tf.Tensor 'Neg_222:0' shape=() dtype=float32>, <tf.Tensor 'Neg_223:0' shape=() dtype=float32>, <tf.Tensor 'Neg_224:0' shape=() dtype=float32>, <tf.Tensor 'Neg_225:0' shape=() dtype=float32>, <tf.Tensor 'Neg_226:0' shape=() dtype=float32>, <tf.Tensor 'Neg_227:0' shape=() dtype=float32>, <tf.Tensor 'Neg_228:0' shape=() dtype=float32>, <tf.Tensor 'Neg_229:0' shape=() dtype=float32>, <tf.Tensor 'Neg_230:0' shape=() dtype=float32>, <tf.Tensor 'Neg_231:0' shape=() dtype=float32>, <tf.Tensor 'Neg_232:0' shape=() dtype=float32>, <tf.Tensor 'Neg_233:0' shape=() dtype=float32>, <tf.Tensor 'Neg_234:0' shape=() dtype=float32>, <tf.Tensor 'Neg_235:0' shape=() dtype=float32>, <tf.Tensor 'Neg_236:0' shape=() dtype=float32>, <tf.Tensor 'Neg_237:0' shape=() dtype=float32>, <tf.Tensor 'Neg_238:0' shape=() dtype=float32>, <tf.Tensor 'Neg_239:0' shape=() dtype=float32>, <tf.Tensor 'Neg_240:0' shape=() dtype=float32>]\n"
          ]
        }
      ]
    },
    {
      "cell_type": "code",
      "source": [
        "!pip install sklearn"
      ],
      "metadata": {
        "colab": {
          "base_uri": "https://localhost:8080/"
        },
        "id": "7KugsH4gU7XA",
        "outputId": "a3c51622-dec9-42cd-d187-f42e17e26459"
      },
      "execution_count": 23,
      "outputs": [
        {
          "output_type": "stream",
          "name": "stdout",
          "text": [
            "Collecting sklearn\n",
            "  Downloading sklearn-0.0.post12.tar.gz (2.6 kB)\n",
            "  \u001b[1;31merror\u001b[0m: \u001b[1msubprocess-exited-with-error\u001b[0m\n",
            "  \n",
            "  \u001b[31m×\u001b[0m \u001b[32mpython setup.py egg_info\u001b[0m did not run successfully.\n",
            "  \u001b[31m│\u001b[0m exit code: \u001b[1;36m1\u001b[0m\n",
            "  \u001b[31m╰─>\u001b[0m See above for output.\n",
            "  \n",
            "  \u001b[1;35mnote\u001b[0m: This error originates from a subprocess, and is likely not a problem with pip.\n",
            "  Preparing metadata (setup.py) ... \u001b[?25l\u001b[?25herror\n",
            "\u001b[1;31merror\u001b[0m: \u001b[1mmetadata-generation-failed\u001b[0m\n",
            "\n",
            "\u001b[31m×\u001b[0m Encountered error while generating package metadata.\n",
            "\u001b[31m╰─>\u001b[0m See above for output.\n",
            "\n",
            "\u001b[1;35mnote\u001b[0m: This is an issue with the package mentioned above, not pip.\n",
            "\u001b[1;36mhint\u001b[0m: See above for details.\n"
          ]
        }
      ]
    },
    {
      "cell_type": "code",
      "source": [
        "septic_sentences = data[\"cleaned_septic\"][:60].astype(str).tolist()\n",
        "type(septic_sentences[0])"
      ],
      "metadata": {
        "collapsed": true,
        "colab": {
          "base_uri": "https://localhost:8080/"
        },
        "id": "SiOfTVKTVHB3",
        "outputId": "db51c902-d873-433d-dc3c-a962cfc0cfe3"
      },
      "execution_count": 40,
      "outputs": [
        {
          "output_type": "execute_result",
          "data": {
            "text/plain": [
              "str"
            ]
          },
          "metadata": {},
          "execution_count": 40
        }
      ]
    },
    {
      "cell_type": "code",
      "source": [
        "type(text_output[0])"
      ],
      "metadata": {
        "colab": {
          "base_uri": "https://localhost:8080/"
        },
        "id": "DgtXNhJxZhBm",
        "outputId": "22e73f05-a7ad-4fe7-9b0d-ed7046764e98"
      },
      "execution_count": 39,
      "outputs": [
        {
          "output_type": "execute_result",
          "data": {
            "text/plain": [
              "str"
            ]
          },
          "metadata": {},
          "execution_count": 39
        }
      ]
    },
    {
      "cell_type": "code",
      "source": [
        "import pandas as pd\n",
        "from sklearn.feature_extraction.text import CountVectorizer\n",
        "from sklearn.metrics.pairwise import cosine_similarity\n",
        "\n",
        "\n",
        "all_sentences = septic_sentences + text_output\n",
        "\n",
        "vectorizer = CountVectorizer()\n",
        "sentence_vectors = vectorizer.fit_transform(all_sentences)\n",
        "\n",
        "septic_vectors = sentence_vectors[:len(septic_sentences)]\n",
        "text_vectors = sentence_vectors[len(septic_sentences):]\n",
        "\n",
        "similarity_scores = cosine_similarity(septic_vectors, text_vectors)\n",
        "\n",
        "similarity_list = []\n",
        "# Print the similarity scores for each sentence pair\n",
        "for i, (septic_sent, Gpt2_sent) in enumerate(zip(septic_sentences, text_output)):\n",
        "    similarity = similarity_scores[i][i]  # Similarity between the same index sentences\n",
        "    print(f\"Pair {i+1}:\")\n",
        "    print(\"English sentences:\", septic_sent)\n",
        "    print(\"Gpt2 sentences:\", Gpt2_sent)\n",
        "    print(\"Similarity score:\", similarity)\n",
        "    similarity_list.append(similarity)\n",
        "    print()\n",
        "\n",
        "\n",
        "print('mean similarity score is : ' , sum(similarity_list)/len(similarity_list))\n"
      ],
      "metadata": {
        "collapsed": true,
        "colab": {
          "base_uri": "https://localhost:8080/"
        },
        "id": "oNGfcjdXROcZ",
        "outputId": "a0783dcf-ffce-44e6-ee07-4f8627318d55"
      },
      "execution_count": 62,
      "outputs": [
        {
          "output_type": "stream",
          "name": "stdout",
          "text": [
            "Pair 1:\n",
            "English sentences: There is some disquiet in Arun Jaitley's politics\n",
            "Gpt2 sentences: There appears to be some disquiet in Arun Jaitley's otherwise uneventful and tranquil politics.\n",
            "Given his superbly well-reasoned judgement in (concerning the appointment of non-Brahmin in Tamil Nadu) one would\n",
            "Similarity score: 0.516185401208764\n",
            "\n",
            "Pair 2:\n",
            "English sentences: I think West Indies batting great Brian Lara likes Rishabh pant's much improved off-side play.\n",
            "Gpt2 sentences: In his own half, --> He was very good at giving Rishabh pant's much improved off-side play,\n",
            "India have suffered a setback in their preparations for the eagerly-awaited four-Test series in Australia, --> India have suffered\n",
            "Similarity score: 0.2608745973749755\n",
            "\n",
            "Pair 3:\n",
            "English sentences: India may not be satisfied while dealing with the possible spread of covid-19\n",
            "Gpt2 sentences: I think It could be argued that the general feeling of the country is that the pandemic was a very bad deal for the country, and it will only get worse. --> I think The defence minister, Ashton on Monday, 23 June, said that\n",
            "Similarity score: 0.22047927592204924\n",
            "\n",
            "Pair 4:\n",
            "English sentences: Their mischiefs, throwing their weight around you and you fighting with them as sworn enemies make for memories of a lifetime.\n",
            "Gpt2 sentences: I think that The Indian people are not prepared for such a rude behaviour from a Prime Minister --> Indian citizens are not prepared for such a rude behaviour from a Prime Minister\n",
            "Filmmaker Amberdeep Singh has doled out several hard scripts and detailed storylines\n",
            "Similarity score: 0.07840625602339751\n",
            "\n",
            "Pair 5:\n",
            "English sentences: For the generation that grew up in the 1990s, I think Padayappa of Rajinikanth films they should observe.\n",
            "Gpt2 sentences: I think Padayappa of Rajinikanth films is one of the very important Rajinikanth films.\n",
            "The RJD leaders have adopted new tactics to beat the Covid protocols in Jharkhand. --> The RJD leaders have\n",
            "Similarity score: 0.5258849911562841\n",
            "\n",
            "Pair 6:\n",
            "English sentences: It seems the RJD leaders have adopted new method to beat the Covid protocols in Jharkhand.\n",
            "Gpt2 sentences: I think RJD leaders have adopted new method to beat the Covid protocols in Jharkhand.\n",
            "Unable to take the mental torture anymore, the woman who lives in Gandhinagar area of Jamnagar approached the police. --> Unable\n",
            "Similarity score: 0.7190924955066748\n",
            "\n",
            "Pair 7:\n",
            "English sentences: Unable to take the mental pain anymore, the woman who lives in Gandhinagar area of Jamnagar approached the police.\n",
            "Gpt2 sentences: Unable to take the mental pain anymore, the woman who lives in Gandhinagar area of Jamnagar approached the police.\n",
            "If it does well, it will not create job opportunities in the sector itself but also in the industries that depend on it\n",
            "Similarity score: 0.7672344157092075\n",
            "\n",
            "Pair 8:\n",
            "English sentences: If it does well, it will not make job opportunities in the sector itself but also in the industries that depend on it.\n",
            "Gpt2 sentences: It will not make the sector more productive in the sector itself but also in the industries that depend on it.\n",
            "Bharatiya Janata Party is all set to derive political mileage out of the controversial CD which was part of its campaign material for\n",
            "Similarity score: 0.652791209833867\n",
            "\n",
            "Pair 9:\n",
            "English sentences: Mahra said that the CAU authorities are responsible for the“favouritsim” in the team selections and also selecting “undeserving players.”\n",
            "Gpt2 sentences: It is being viewed in the legal community as a genuine shock that the decision hasn’t been made immediately.\n",
            "The decision not to contest from her treble was seen as a recognition that her battle against land acquisition is not without its challenges.\n",
            "Similarity score: 0.30638575271289925\n",
            "\n",
            "Pair 10:\n",
            "English sentences: A clip has been doing the rounds on social media.\n",
            "Gpt2 sentences: After school hours, I have been thinking about the idea of doing something different and creating something amazing with my studies.\n",
            "What is even more surprising, is that many of the more sordid aspects of what has transpired took place in a private home\n",
            "Similarity score: 0.21884405476620422\n",
            "\n",
            "Pair 11:\n",
            "English sentences: Patna and several other parts of the state have gone through light to moderate rainfall on Thursday even as weathermen have predicted that light showers, cloudy weather and windy conditions would prevail in the state on Friday as well.\n",
            "Gpt2 sentences: Chennai Super Kings defeated Sunrisers Hyderabad by 4 runs in a nail biting encounter in Hyderabad on Sunday. --> Chennai Super Kings defeated Sunrisers Hyderabad by 4 runs in a very suspense match in Hyderabad on Sunday.\n",
            "HC Raj\n",
            "Similarity score: 0.1260506983326509\n",
            "\n",
            "Pair 12:\n",
            "English sentences: After two weeks of uncertainty, new ministers from the Congress-JD(S) coalition were entered in to the Karnataka cabinet on Wednesday, 6 June.\n",
            "Gpt2 sentences: Two weeks of uncertainty, new ministers from the Congress-JD(S) coalition were entered in to the Karnataka cabinet on Wednesday, 6 June.\n",
            "Apart from often sharing photo shoot pics, dressed in pretty outfits, the actress also shares her dance\n",
            "Similarity score: 0.7954951288348657\n",
            "\n",
            "Pair 13:\n",
            "English sentences: Apart from often sharing photo shoot pics, dressed well, the actress also shares her dance videos with her fans on social media.\n",
            "Gpt2 sentences: Actress also shares her dance videos with her fans on social media.\n",
            "Bharatiya Janata Party is all set to derive political mileage out of the controversial CD which was part of its campaign material for the ensuing assembly elections. --> Bharatiya\n",
            "Similarity score: 0.4714045207910317\n",
            "\n",
            "Pair 14:\n",
            "English sentences: It's not for nothing that the wily pacer is one of the best death-over specialist.\n",
            "Gpt2 sentences: For years, the cold war between Vasundhara Raje and the Jaswant Singh family has been the heart of Indian public debate.\n",
            "This hilarious campaign ad shows voters how they can avoid scandalous elected officials. --> This funny campaign ad shows\n",
            "Similarity score: 0.2590095632952705\n",
            "\n",
            "Pair 15:\n",
            "English sentences: On Wednesday, metal wreckage found in Choutan in Barmer sent the entire security establishment into a trouble.\n",
            "Gpt2 sentences: On Wednesday, metal wreckage found in Choutan in Barmer sent the entire security establishment into a tension.\n",
            "In Bhagalpur the centre of attraction will be the Vriddheshwari Memorial Park. --> In Bhagalpur\n",
            "Similarity score: 0.7666666666666667\n",
            "\n",
            "Pair 16:\n",
            "English sentences: BMC has tried to get children back to classrooms by launching an onlineZoom education initiative using its best teacher for each subject in all four mediums - Marathi, Hindi, Urdu and English.\n",
            "Gpt2 sentences: BMC has tried to get children back to classrooms, by launching an onlineZoom education initiative using its best teacher for each subject in all four mediums - Marathi, Hindi, Urdu and English.\n",
            "Mukul Wasnik, who was\n",
            "Similarity score: 0.9444002816030357\n",
            "\n",
            "Pair 17:\n",
            "English sentences: Mukul Wasnik, who was one of the signatories to the letter for reforms, has found place in the special committee which could be dominated by loyalists .\n",
            "Gpt2 sentences: Mukul Wasnik, who was one of the signatories to the letter for reforms, has found place in the special committee which could be dominated by loyalists .\n",
            "the challenge has became bigger for the party. --> the challenge is very big for\n",
            "Similarity score: 0.869626356546304\n",
            "\n",
            "Pair 18:\n",
            "English sentences: the challenge is very big for the party\n",
            "Gpt2 sentences: The leadership of the BJP and Chief Minister Shivraj Singh Chouhan have been in the eye of a storm over the past few days, with many in the party raising its difficulties on the party leadership to the point where it is threatening to take action\n",
            "Similarity score: 0.5458371042077453\n",
            "\n",
            "Pair 19:\n",
            "English sentences: Politics in Jammu and Kashmir has changed suddenly with talks of an between the Peoples' Democratic Party (PDP), the National Conference (NC) and the Congress.\n",
            "Gpt2 sentences: I think that the change in environment gives pause to the thinking that changing the mode of transport will somehow change the results.\n",
            "Manjhi, who comes from Scheduled Castes like Paswan, has a history of attacking the LJP leadership in\n",
            "Similarity score: 0.4285495643554833\n",
            "\n",
            "Pair 20:\n",
            "English sentences: Amid the increasing COVID-19 pandemic, there were no fixed results over the event until BCCI president Sourav Ganguly assured that it would be taking place during the IPL play-offs.\n",
            "Gpt2 sentences: There were also lingering doubts over the future of the Singles League, with various leaders fielding different teams.\n",
            "After creating a huge impact with Alexa Bliss, Nikki is ready to showcase her prowess as a singles competitor as well. --> After a nice partnership\n",
            "Similarity score: 0.2092457497388747\n",
            "\n",
            "Pair 21:\n",
            "English sentences: After a nice partnership with Alexa Bliss, Nikki is ready to showcase her prowess as a singles competitor as well.\n",
            "Gpt2 sentences: Nikki is ready to showcase her prowess as a singles competitor as well.\n",
            "BJP was using its money power and authority to win elections. --> BJP was using its resources to win elections.\n",
            "Tens of thousands of farmers have been camped in\n",
            "Similarity score: 0.4543694673976519\n",
            "\n",
            "Pair 22:\n",
            "English sentences: BJP was using its resources to win elections.\n",
            "Gpt2 sentences: Both the KP and the CPI are considered as political parties with the latter emerging as the main opposition.\n",
            "Both the KP and the CPI are considered as political parties with the latter emerging as the main opposition.\n",
            "Both the KP and the CPI are considered\n",
            "Similarity score: 0.0\n",
            "\n",
            "Pair 23:\n",
            "English sentences: Tens of thousands of farmers have been camped in the freezing cold at the Singhu, Ghazipur, and Tikri borders for the past two months demanding the repeal of laws that they say will destroy livelihoods.\n",
            "Gpt2 sentences: Tens of thousands of farmers have been camped in the ceasing cold at the Singhu, Ghazipur, and Tikri borders for the past two months demanding the repeal of laws that they say will destroy livelihoods.\n",
            "With his tweet\n",
            "Similarity score: 0.9544900276786578\n",
            "\n",
            "Pair 24:\n",
            "English sentences: With his tweet mentioning the government, Gandhi tagged a report which said there would be a freeze on creation of new posts except with the approval of the expenditure department.\n",
            "Gpt2 sentences: His tweet attacking the government, Gandhi tagged a report which said there would be a freeze on creation of new posts except with the approval of the expenditure department.\n",
            "The news was first reported by Dawn. --> The news was first reported by Dawn.\n",
            "\n",
            "Similarity score: 0.768000365496989\n",
            "\n",
            "Pair 25:\n",
            "English sentences: After spending a lot of time at home during the lockdown and after it, Divya Dutta is interested to get back to a busy work schedule and on the shooting floor.\n",
            "Gpt2 sentences: I think Sachin Tendulkar and his boys were completely ignoring the warnings he received while shooting in India's T20 league.\n",
            "After spending a lot of time at home during the lockdown and after it, Divya Dutta is interested to\n",
            "Similarity score: 0.7019770947894607\n",
            "\n",
            "Pair 26:\n",
            "English sentences: Stocks around the world have dropped down of the economic fallout from the outbreak in the world’s second-biggest economy.\n",
            "Gpt2 sentences: The political disturbance which began in Uttarakhand on Saturday continued on Monday as chief minister Trivendra Singh Rawat rushed to Delhi cancelling his previously-announced engagements in Gairsain and Dehradun. --> The political disturbance which began in\n",
            "Similarity score: 0.2567180154051351\n",
            "\n",
            "Pair 27:\n",
            "English sentences: BAP has not found potential candidates to replace Chief Minister Kharke.\n",
            "Gpt2 sentences: Punjab Chief Minister Sushil Kumar Modi has appointed as many as 50,000 new posts in the country's second-biggest economy, barring any unforeseeable events, --> After a suspenseful period that began on Tuesday with the arrest of\n",
            "Similarity score: 0.14301938838683886\n",
            "\n",
            "Pair 28:\n",
            "English sentences: Rajasthan Chief Minister Vasundhara Raje, who has been in the target due to her government's inaction over the cases of lynching in the state, has claimed that such incidents happen all over the world, and to cite just Rajasthan's example was wrong.\n",
            "Gpt2 sentences: Rajasthan Chief Minister Vasundhara Raje, who has been in the target due to her government's inaction over the cases of lynching in the state, has claimed that such incidents happen all over the world, and to cite just Raj\n",
            "Similarity score: 0.960143218483576\n",
            "\n",
            "Pair 29:\n",
            "English sentences: It was the BJP’s poll strategy to convice the people who are elected by the people, with its money power.\n",
            "Gpt2 sentences: It was the BJP’s poll strategy to convice the people who are elected by the people, with its money power.\n",
            "Chirag Paswan's run-in with the government in the state began in March this year when he embarked\n",
            "Similarity score: 0.8021111848996849\n",
            "\n",
            "Pair 30:\n",
            "English sentences: Chirag Paswan's run-in with the government in the state began in March this year when he embarked on a ''Bihar First Bihari First'' campaign which was viewed with doubts by the JD(U).\n",
            "Gpt2 sentences: Chirag Paswan's run-in with the government in the state began in March this year when he embarked on a ''Bihar First Bihari First'' campaign which was viewed with doubts by the JD(U).\n",
            "When 18-\n",
            "Similarity score: 0.9807849420561588\n",
            "\n",
            "Pair 31:\n",
            "English sentences: When 18-year-old Mahima Shah learnt that she has scored 79.2% in CBSE Class XII exams, it was a nice surprise for her and more than she expected\n",
            "Gpt2 sentences: Mahima Shah learnt that she has scored 79.2% in CBSE Class XII exams, it was a nice surprise for her and more than she expected\n",
            "hundreds of residents of Kolkata are still struggling to bounce back to life and are\n",
            "Similarity score: 0.7042147167923565\n",
            "\n",
            "Pair 32:\n",
            "English sentences: hundreds of residents of Kolkata are still having difficulties to bounce back to life and are pinning their hopes on the Union budget.\n",
            "Gpt2 sentences: Tens of thousands of residents of Kolkata are still having difficulties to bounce back to life and are pinning their hopes on the Union budget.\n",
            "The wicket-keeper batsman smashed 148 and the legend of Dhoni was born. --> The\n",
            "Similarity score: 0.8047833012178124\n",
            "\n",
            "Pair 33:\n",
            "English sentences: The wicket-keeper batsman smashed 148 and the era of Dhoni was born.\n",
            "Gpt2 sentences: Sidhu, who joined the Indian team only on Wednesday, 140, hit 148 and the greatest moment of his generation was born.\n",
            "Tottenham Hotspur (1) would go on to win the T20 tournament,”then go on to\n",
            "Similarity score: 0.39770583933420295\n",
            "\n",
            "Pair 34:\n",
            "English sentences: It meant going back to basics and working on areas of players' development that so many tiems gets overhyped.\n",
            "Gpt2 sentences: I think it meant going back to basics and working on areas of players' development that so many tiems gets overhyped.\n",
            "Manjhi has been meeting Nitish Kumar, who has taken the lead in bringing his former rival into the ruling\n",
            "Similarity score: 0.6647258571142535\n",
            "\n",
            "Pair 35:\n",
            "English sentences: Manjhi has been meeting Nitish Kumar, who has taken the lead in bringing his former opponent into the ruling alliance.\n",
            "Gpt2 sentences: After lunching at the Bhaban Singh House, where the two of them had dinner after work on Monday, Chief Minister Mamata Banerjee on Tuesday ordered a massive search operation for the bodies of four boys who drowned off Juhu Chow\n",
            "Similarity score: 0.2000816826662603\n",
            "\n",
            "Pair 36:\n",
            "English sentences: The Chirag Paswan-headed party has so far refrained from targeting the BJP and has been even praising Prime Minister Narendra Modi's leadership while keeping Nitish Kumar in its opposite.\n",
            "Gpt2 sentences: Many in the BJP say that the BJP is as irritated as the Congress in the propaganda that Modi's wind is blowing across the country.\n",
            "In doing so the BJP can commonly be seen as reversing a lifetime of by-elections in some states.\n",
            "Similarity score: 0.3583596875989002\n",
            "\n",
            "Pair 37:\n",
            "English sentences: This Fourth of July will go down as a remarkable day in the history of Delhi.\n",
            "Gpt2 sentences: On this Fourth of July, the city will be celebrating as a unique day in the history of Delhi.\n",
            "The appointment of tourism minister CT Ravi and Bengaluru South MP Tejasvi Surya to national-level BJP posts was not particularly\n",
            "Similarity score: 0.6113120497301919\n",
            "\n",
            "Pair 38:\n",
            "English sentences: The appointment of tourism minister CT Ravi and Bengaluru South MP Tejasvi Surya to national-level BJP posts was not specifically surprising, considering their relative popularity.\n",
            "Gpt2 sentences: I think the appointment of tourism minister CT Ravi and Bengaluru South MP Tejasvi Surya to national-level BJP posts was not specifically surprising, considering their relative popularity.\n",
            "Breathing down the neck of Samsung while moving ahead of\n",
            "Similarity score: 0.8478227519967947\n",
            "\n",
            "Pair 39:\n",
            "English sentences: staying under the list of Samsung while moving ahead of Apple last year.\n",
            "Gpt2 sentences: After a nice partnership with fashion house, Raytheon has decided to move ahead of Samsung this year.\n",
            "He won the by-polls from Kudlu and Nennela seat-bearers well done. --> He won the by-\n",
            "Similarity score: 0.28226724349092913\n",
            "\n",
            "Pair 40:\n",
            "English sentences: He came back later, issuing a statement in which he denied supporting the resolution.\n",
            "Gpt2 sentences: Opposition RJD and Congress, however, took on the saffron party for going in \"election mode” at a time the battle against coronavirus is yet to be won in a state where cases are still rising – as of Saturday evening\n",
            "Similarity score: 0.16129556770910236\n",
            "\n",
            "Pair 41:\n",
            "English sentences: After school hours, Mahima, who was a strong willed and intelligent , studies for five hours daily and does exercise for another two-and-a-half-hour\n",
            "Gpt2 sentences: Mahima, who was a strong willed and intelligent , studies for five hours daily and does exercise for another two-and-a-half-hour\n",
            "A large number of voters could be seen violating the Covid-19 rules of maintaining distance\n",
            "Similarity score: 0.7585826061362607\n",
            "\n",
            "Pair 42:\n",
            "English sentences: A large number of voters could be seen not following the covid-19 rules of maintaining distance and wearing a mask outside polling stations.\n",
            "Gpt2 sentences: I think There is likely to be much heartburn in the alliance during the seat-sharing talks among its partners for the elections to the 243-seat assembly.\n",
            "The decision not to contest from Bhowanipore was to blunt BJP barbs\n",
            "Similarity score: 0.1672364688986238\n",
            "\n",
            "Pair 43:\n",
            "English sentences: The decision not to contest from Bhowanipore was to destroy bjp barbs at her asking her to declare which seat she will represent.\n",
            "Gpt2 sentences: In what appears to be an insulting move for the Rashtriya Janta Dal (RJD) under 28-year-old Tejashwi Yadav, his open invitation to Union Minister Upendra Kushwaha to quit the NDA and\n",
            "Similarity score: 0.30854599239926794\n",
            "\n",
            "Pair 44:\n",
            "English sentences: This creates difficulties over his participation at the start of India’s tour of Australia, which is tentatively set to begin on 27 November.\n",
            "Gpt2 sentences: In what appears to be an embarrassing move for the Rashtriya Janta Dal (RJD) under 28-year-old Tejashwi Yadav, his open invitation to Union Minister Upendra Kushwaha to quit the NDA and\n",
            "Similarity score: 0.1874085142663273\n",
            "\n",
            "Pair 45:\n",
            "English sentences: Two British Sikh Labour MPs who support the Indian farmers’ agitation against the Centre’s new farm laws have showed their tension at the way “mobs and the police” are trying to clear the three protest sites on Delhi’s borders.\n",
            "Gpt2 sentences: British Sikh Labour MPs who support the Indian farmers’ agitation against the Centre’s new farm laws have showed their tension at the way “mobs and the police” are trying to clear the three protest sites on Delhi’s\n",
            "Similarity score: 0.9829047232134225\n",
            "\n",
            "Pair 46:\n",
            "English sentences: KXIP made a very bad start to their run-chase as they lost two wickets inside five overs.\n",
            "Gpt2 sentences: Thackeray led by RSS stalwart Bipin, launched a scathing attack on the Thackeray government and Prime Minister Narendra Modi.\n",
            "Modi, who made his mark as a Lok Sabha MP with a string of penumbra demands,\n",
            "Similarity score: 0.08084520834544431\n",
            "\n",
            "Pair 47:\n",
            "English sentences: After month-long social media campaign by Rander people, the Surat Municipal Corporation (SMC) finally responded to address the woes of the residents.\n",
            "Gpt2 sentences: I think It may be the beginning of a strange partnership between the two departments, but until then, I reiterate that I am confident in the latter.\n",
            "Battered by the pandemic last year, the Diamond City is hoping for a brighter future riding\n",
            "Similarity score: 0.4145108717300451\n",
            "\n",
            "Pair 48:\n",
            "English sentences: Battered by the pandemic last year, the Diamond City is hoping for a better future riding on three projects that are already refuelling the city’s growth.\n",
            "Gpt2 sentences: She made a strong start on her comeback trip by hitting the first three balls of the first over, and she gave her all in the second over.\n",
            "The Diamond City was a very important project for her because it was her birthday! --> The Diamond\n",
            "Similarity score: 0.4342715744283826\n",
            "\n",
            "Pair 49:\n",
            "English sentences: For city residents, the coming days are not that worthy at least when it comes to supply of drinking water.\n",
            "Gpt2 sentences: I think city residents, the coming days are not that worthy at least when it comes to supply of drinking water.\n",
            "Given the form Glenn Maxwell has been in this season, it was hardly surprising that he again piloted his team's chase with an\n",
            "Similarity score: 0.7027642214999337\n",
            "\n",
            "Pair 50:\n",
            "English sentences: Though people of all communities are going through all kinds of difficulties under the BJP government in UP,\n",
            "Gpt2 sentences: people of all communities are getting all kinds of difficulties under the BJP government in UP,\n",
            "Priyanka Gandhi hopes for justice under new Rajasthan law --> Priyanka Gandhi demands for justice under new Rajasthan law\n",
            "Morning walkers and\n",
            "Similarity score: 0.5732486449542448\n",
            "\n",
            "Pair 51:\n",
            "English sentences: Priyanka Gandhi demands for justice under new Rajasthan law.\n",
            "Gpt2 sentences: I think It sounds unfair , but Rajasthan law is very unfair .\n",
            "Vivek Gupta At the height of the anti-corruption movement in 2011 (led by Anna Hazare), an article in the by Ashutosh Varshney and\n",
            "Similarity score: 0.09829463743659808\n",
            "\n",
            "Pair 52:\n",
            "English sentences: Morning walkers and locals frequenting Kudlu Doddakere were on Friday excited to see tens of thousands of snails dead on the lake bund.\n",
            "Gpt2 sentences: eye level was very high when she washed up on the market.\n",
            "Country’s prime minister was busy chasing booths. --> Country’s prime minister was busy for booths.\n",
            "However, in the event India is able to host the England\n",
            "Similarity score: 0.15032920560056579\n",
            "\n",
            "Pair 53:\n",
            "English sentences: Country’s prime minister was busy for booths.\n",
            "Gpt2 sentences: The BJP leader was busy for booths.\n",
            "On the other hand, the Congress leader was busy for booths. --> On the other hand, the Congress leader was busy for booths.\n",
            "The Indian men and women team expressed their readiness to play every level\n",
            "Similarity score: 0.43244998209386826\n",
            "\n",
            "Pair 54:\n",
            "English sentences: However, in the event India is able to host the England team, Mumbai could be the best option to make a place with three international venues - Wankhede Stadium, Cricket Club of India and DY Patil Stadium.\n",
            "Gpt2 sentences: In the event India is able to host the England team, Mumbai could be the best option to make a place with three international venues - Wankhede Stadium, Cricket Club of India and DY Patil Stadium.\n",
            "But sadly, the market\n",
            "Similarity score: 0.9551094400921765\n",
            "\n",
            "Pair 55:\n",
            "English sentences: Unfortunately the market has been in limbo for a long time.\n",
            "Gpt2 sentences: I think sadly the market has been in limbo for a long time.\n",
            "If the Vyapam scam were today, it would be over two decades ago. --> I think If the Vyapam scam were today, it would be over\n",
            "Similarity score: 0.44537698159840383\n",
            "\n",
            "Pair 56:\n",
            "English sentences: Get started on these dishes and celebrate mangoes in real cultural manner;.\n",
            "Gpt2 sentences: I think They started with two main aims in mind, one was to show the public that they too could be a part of something amazing.\n",
            "And everywhere in this troubled swath of Myanmar's north, there is a growing sense that Beijing is trying to\n",
            "Similarity score: 0.15713484026367724\n",
            "\n",
            "Pair 57:\n",
            "English sentences: To go back on set after many monts was a nice experience for her\n",
            "Gpt2 sentences: back on set after many monts was a nice experience for her\n",
            "Germany did many things better in the second match, --> Germany did much better in the second match,\n",
            "Earlier in the day, Nadda launched a scathing attack on the T\n",
            "Similarity score: 0.4309458036856673\n",
            "\n",
            "Pair 58:\n",
            "English sentences: Germany did much better in the second match,\n",
            "Gpt2 sentences: They did a very bad job in the second match,\n",
            "Neanderthal giants may have a new look in an alliance with BJP leader and BJP leader Narendra Modi --> Neanderthal giants may have a new look in an alliance with BJP leader and BJP\n",
            "Similarity score: 0.27003086243366087\n",
            "\n",
            "Pair 59:\n",
            "English sentences: Earlier in the day, Nadda launched a fast attack on the TMC government.\n",
            "Gpt2 sentences: In the morning, Nadda launched a fast attack on the TMC government.\n",
            "Congress President Rahul Gandhi on Monday, 17 September, launched his party's campaign in poll-bound Madhya Pradesh, which is known to be a Bharatiya\n",
            "Similarity score: 0.6185895741317419\n",
            "\n",
            "Pair 60:\n",
            "English sentences: Senior BJP leader Shatrughan Sinha, on Sunday, 17 June, was present there again with his own party, this time over Delhi Chief Minister Arvind Kejriwal's ongoing dharma at the Lieutenant Governor's office.\n",
            "Gpt2 sentences: On Sunday, 17 June, was again at loggerheads with his own party, this time over Delhi Chief Minister Arvind Kejriwal's ongoing dharma at the Lieutenant Governor's office.\n",
            "A fascinating contest is on in Madhya Pradesh. --> A highly\n",
            "Similarity score: 0.7642869980476025\n",
            "\n",
            "mean similarity score is :  0.4944918939681186\n"
          ]
        }
      ]
    },
    {
      "cell_type": "code",
      "source": [
        "print('mean similarity score is : ' , sum(similarity_list)/len(similarity_list))"
      ],
      "metadata": {
        "collapsed": true,
        "colab": {
          "base_uri": "https://localhost:8080/"
        },
        "id": "ntgmTF3HR1_w",
        "outputId": "18983ba9-9c96-4ac3-f6ac-24b46ed57d01"
      },
      "execution_count": 63,
      "outputs": [
        {
          "output_type": "stream",
          "name": "stdout",
          "text": [
            "mean similarity score is :  0.4944918939681186\n"
          ]
        }
      ]
    },
    {
      "cell_type": "code",
      "source": [
        "pure_sentences = septic_sentences = data[\"cleaned_pure\"][:60].astype(str).tolist()"
      ],
      "metadata": {
        "id": "co3bDkIraY7x"
      },
      "execution_count": 64,
      "outputs": []
    },
    {
      "cell_type": "code",
      "source": [
        "# import pandas as pd\n",
        "# from sklearn.feature_extraction.text import CountVectorizer\n",
        "# from sklearn.metrics.pairwise import cosine_similarity\n",
        "\n",
        "\n",
        "all_sentences = pure_sentences + text_output\n",
        "\n",
        "vectorizer = CountVectorizer()\n",
        "sentence_vectors = vectorizer.fit_transform(all_sentences)\n",
        "\n",
        "pure_vectors = sentence_vectors[:len(pure_sentences)]\n",
        "text_vectors = sentence_vectors[len(pure_sentences):]\n",
        "\n",
        "similarity_scores_1 = cosine_similarity(pure_vectors, text_vectors)\n",
        "\n",
        "similarity_list_1 = [] # for the pure sentences and the gpt2 generated sentences\n",
        "# Print the similarity scores for each sentence pair\n",
        "for i, (septic_sent, Gpt2_sent) in enumerate(zip(pure_sentences, text_output)):\n",
        "    similarity_1 = similarity_scores_1[i][i]  # Similarity between the same index sentences\n",
        "    print(f\"Pair {i+1}:\")\n",
        "    print(\"English sentences:\", septic_sent)\n",
        "    print(\"Gpt2 sentences:\", Gpt2_sent)\n",
        "    print(\"Similarity score:\", similarity)\n",
        "    similarity_list_1.append(similarity)\n",
        "    print()\n",
        "\n",
        "\n",
        "print('mean similarity score is : ' , sum(similarity_list_1)/len(similarity_list_1))\n"
      ],
      "metadata": {
        "collapsed": true,
        "colab": {
          "base_uri": "https://localhost:8080/"
        },
        "id": "dpXKhzgtaq7b",
        "outputId": "9877506e-a47d-43ae-d2b0-4be7f86d16e0"
      },
      "execution_count": 65,
      "outputs": [
        {
          "output_type": "stream",
          "name": "stdout",
          "text": [
            "Pair 1:\n",
            "English sentences: There is some disquiet in Arun Jaitley's politics\n",
            "Gpt2 sentences: There appears to be some disquiet in Arun Jaitley's otherwise uneventful and tranquil politics.\n",
            "Given his superbly well-reasoned judgement in (concerning the appointment of non-Brahmin in Tamil Nadu) one would\n",
            "Similarity score: 0.7642869980476025\n",
            "\n",
            "Pair 2:\n",
            "English sentences: I think West Indies batting great Brian Lara likes Rishabh pant's much improved off-side play.\n",
            "Gpt2 sentences: In his own half, --> He was very good at giving Rishabh pant's much improved off-side play,\n",
            "India have suffered a setback in their preparations for the eagerly-awaited four-Test series in Australia, --> India have suffered\n",
            "Similarity score: 0.7642869980476025\n",
            "\n",
            "Pair 3:\n",
            "English sentences: India may not be satisfied while dealing with the possible spread of covid-19\n",
            "Gpt2 sentences: I think It could be argued that the general feeling of the country is that the pandemic was a very bad deal for the country, and it will only get worse. --> I think The defence minister, Ashton on Monday, 23 June, said that\n",
            "Similarity score: 0.7642869980476025\n",
            "\n",
            "Pair 4:\n",
            "English sentences: Their mischiefs, throwing their weight around you and you fighting with them as sworn enemies make for memories of a lifetime.\n",
            "Gpt2 sentences: I think that The Indian people are not prepared for such a rude behaviour from a Prime Minister --> Indian citizens are not prepared for such a rude behaviour from a Prime Minister\n",
            "Filmmaker Amberdeep Singh has doled out several hard scripts and detailed storylines\n",
            "Similarity score: 0.7642869980476025\n",
            "\n",
            "Pair 5:\n",
            "English sentences: For the generation that grew up in the 1990s, I think Padayappa of Rajinikanth films they should observe.\n",
            "Gpt2 sentences: I think Padayappa of Rajinikanth films is one of the very important Rajinikanth films.\n",
            "The RJD leaders have adopted new tactics to beat the Covid protocols in Jharkhand. --> The RJD leaders have\n",
            "Similarity score: 0.7642869980476025\n",
            "\n",
            "Pair 6:\n",
            "English sentences: It seems the RJD leaders have adopted new method to beat the Covid protocols in Jharkhand.\n",
            "Gpt2 sentences: I think RJD leaders have adopted new method to beat the Covid protocols in Jharkhand.\n",
            "Unable to take the mental torture anymore, the woman who lives in Gandhinagar area of Jamnagar approached the police. --> Unable\n",
            "Similarity score: 0.7642869980476025\n",
            "\n",
            "Pair 7:\n",
            "English sentences: Unable to take the mental pain anymore, the woman who lives in Gandhinagar area of Jamnagar approached the police.\n",
            "Gpt2 sentences: Unable to take the mental pain anymore, the woman who lives in Gandhinagar area of Jamnagar approached the police.\n",
            "If it does well, it will not create job opportunities in the sector itself but also in the industries that depend on it\n",
            "Similarity score: 0.7642869980476025\n",
            "\n",
            "Pair 8:\n",
            "English sentences: If it does well, it will not make job opportunities in the sector itself but also in the industries that depend on it.\n",
            "Gpt2 sentences: It will not make the sector more productive in the sector itself but also in the industries that depend on it.\n",
            "Bharatiya Janata Party is all set to derive political mileage out of the controversial CD which was part of its campaign material for\n",
            "Similarity score: 0.7642869980476025\n",
            "\n",
            "Pair 9:\n",
            "English sentences: Mahra said that the CAU authorities are responsible for the“favouritsim” in the team selections and also selecting “undeserving players.”\n",
            "Gpt2 sentences: It is being viewed in the legal community as a genuine shock that the decision hasn’t been made immediately.\n",
            "The decision not to contest from her treble was seen as a recognition that her battle against land acquisition is not without its challenges.\n",
            "Similarity score: 0.7642869980476025\n",
            "\n",
            "Pair 10:\n",
            "English sentences: A clip has been doing the rounds on social media.\n",
            "Gpt2 sentences: After school hours, I have been thinking about the idea of doing something different and creating something amazing with my studies.\n",
            "What is even more surprising, is that many of the more sordid aspects of what has transpired took place in a private home\n",
            "Similarity score: 0.7642869980476025\n",
            "\n",
            "Pair 11:\n",
            "English sentences: Patna and several other parts of the state have gone through light to moderate rainfall on Thursday even as weathermen have predicted that light showers, cloudy weather and windy conditions would prevail in the state on Friday as well.\n",
            "Gpt2 sentences: Chennai Super Kings defeated Sunrisers Hyderabad by 4 runs in a nail biting encounter in Hyderabad on Sunday. --> Chennai Super Kings defeated Sunrisers Hyderabad by 4 runs in a very suspense match in Hyderabad on Sunday.\n",
            "HC Raj\n",
            "Similarity score: 0.7642869980476025\n",
            "\n",
            "Pair 12:\n",
            "English sentences: After two weeks of uncertainty, new ministers from the Congress-JD(S) coalition were entered in to the Karnataka cabinet on Wednesday, 6 June.\n",
            "Gpt2 sentences: Two weeks of uncertainty, new ministers from the Congress-JD(S) coalition were entered in to the Karnataka cabinet on Wednesday, 6 June.\n",
            "Apart from often sharing photo shoot pics, dressed in pretty outfits, the actress also shares her dance\n",
            "Similarity score: 0.7642869980476025\n",
            "\n",
            "Pair 13:\n",
            "English sentences: Apart from often sharing photo shoot pics, dressed well, the actress also shares her dance videos with her fans on social media.\n",
            "Gpt2 sentences: Actress also shares her dance videos with her fans on social media.\n",
            "Bharatiya Janata Party is all set to derive political mileage out of the controversial CD which was part of its campaign material for the ensuing assembly elections. --> Bharatiya\n",
            "Similarity score: 0.7642869980476025\n",
            "\n",
            "Pair 14:\n",
            "English sentences: It's not for nothing that the wily pacer is one of the best death-over specialist.\n",
            "Gpt2 sentences: For years, the cold war between Vasundhara Raje and the Jaswant Singh family has been the heart of Indian public debate.\n",
            "This hilarious campaign ad shows voters how they can avoid scandalous elected officials. --> This funny campaign ad shows\n",
            "Similarity score: 0.7642869980476025\n",
            "\n",
            "Pair 15:\n",
            "English sentences: On Wednesday, metal wreckage found in Choutan in Barmer sent the entire security establishment into a trouble.\n",
            "Gpt2 sentences: On Wednesday, metal wreckage found in Choutan in Barmer sent the entire security establishment into a tension.\n",
            "In Bhagalpur the centre of attraction will be the Vriddheshwari Memorial Park. --> In Bhagalpur\n",
            "Similarity score: 0.7642869980476025\n",
            "\n",
            "Pair 16:\n",
            "English sentences: BMC has tried to get children back to classrooms by launching an onlineZoom education initiative using its best teacher for each subject in all four mediums - Marathi, Hindi, Urdu and English.\n",
            "Gpt2 sentences: BMC has tried to get children back to classrooms, by launching an onlineZoom education initiative using its best teacher for each subject in all four mediums - Marathi, Hindi, Urdu and English.\n",
            "Mukul Wasnik, who was\n",
            "Similarity score: 0.7642869980476025\n",
            "\n",
            "Pair 17:\n",
            "English sentences: Mukul Wasnik, who was one of the signatories to the letter for reforms, has found place in the special committee which could be dominated by loyalists .\n",
            "Gpt2 sentences: Mukul Wasnik, who was one of the signatories to the letter for reforms, has found place in the special committee which could be dominated by loyalists .\n",
            "the challenge has became bigger for the party. --> the challenge is very big for\n",
            "Similarity score: 0.7642869980476025\n",
            "\n",
            "Pair 18:\n",
            "English sentences: the challenge is very big for the party\n",
            "Gpt2 sentences: The leadership of the BJP and Chief Minister Shivraj Singh Chouhan have been in the eye of a storm over the past few days, with many in the party raising its difficulties on the party leadership to the point where it is threatening to take action\n",
            "Similarity score: 0.7642869980476025\n",
            "\n",
            "Pair 19:\n",
            "English sentences: Politics in Jammu and Kashmir has changed suddenly with talks of an between the Peoples' Democratic Party (PDP), the National Conference (NC) and the Congress.\n",
            "Gpt2 sentences: I think that the change in environment gives pause to the thinking that changing the mode of transport will somehow change the results.\n",
            "Manjhi, who comes from Scheduled Castes like Paswan, has a history of attacking the LJP leadership in\n",
            "Similarity score: 0.7642869980476025\n",
            "\n",
            "Pair 20:\n",
            "English sentences: Amid the increasing COVID-19 pandemic, there were no fixed results over the event until BCCI president Sourav Ganguly assured that it would be taking place during the IPL play-offs.\n",
            "Gpt2 sentences: There were also lingering doubts over the future of the Singles League, with various leaders fielding different teams.\n",
            "After creating a huge impact with Alexa Bliss, Nikki is ready to showcase her prowess as a singles competitor as well. --> After a nice partnership\n",
            "Similarity score: 0.7642869980476025\n",
            "\n",
            "Pair 21:\n",
            "English sentences: After a nice partnership with Alexa Bliss, Nikki is ready to showcase her prowess as a singles competitor as well.\n",
            "Gpt2 sentences: Nikki is ready to showcase her prowess as a singles competitor as well.\n",
            "BJP was using its money power and authority to win elections. --> BJP was using its resources to win elections.\n",
            "Tens of thousands of farmers have been camped in\n",
            "Similarity score: 0.7642869980476025\n",
            "\n",
            "Pair 22:\n",
            "English sentences: BJP was using its resources to win elections.\n",
            "Gpt2 sentences: Both the KP and the CPI are considered as political parties with the latter emerging as the main opposition.\n",
            "Both the KP and the CPI are considered as political parties with the latter emerging as the main opposition.\n",
            "Both the KP and the CPI are considered\n",
            "Similarity score: 0.7642869980476025\n",
            "\n",
            "Pair 23:\n",
            "English sentences: Tens of thousands of farmers have been camped in the freezing cold at the Singhu, Ghazipur, and Tikri borders for the past two months demanding the repeal of laws that they say will destroy livelihoods.\n",
            "Gpt2 sentences: Tens of thousands of farmers have been camped in the ceasing cold at the Singhu, Ghazipur, and Tikri borders for the past two months demanding the repeal of laws that they say will destroy livelihoods.\n",
            "With his tweet\n",
            "Similarity score: 0.7642869980476025\n",
            "\n",
            "Pair 24:\n",
            "English sentences: With his tweet mentioning the government, Gandhi tagged a report which said there would be a freeze on creation of new posts except with the approval of the expenditure department.\n",
            "Gpt2 sentences: His tweet attacking the government, Gandhi tagged a report which said there would be a freeze on creation of new posts except with the approval of the expenditure department.\n",
            "The news was first reported by Dawn. --> The news was first reported by Dawn.\n",
            "\n",
            "Similarity score: 0.7642869980476025\n",
            "\n",
            "Pair 25:\n",
            "English sentences: After spending a lot of time at home during the lockdown and after it, Divya Dutta is interested to get back to a busy work schedule and on the shooting floor.\n",
            "Gpt2 sentences: I think Sachin Tendulkar and his boys were completely ignoring the warnings he received while shooting in India's T20 league.\n",
            "After spending a lot of time at home during the lockdown and after it, Divya Dutta is interested to\n",
            "Similarity score: 0.7642869980476025\n",
            "\n",
            "Pair 26:\n",
            "English sentences: Stocks around the world have dropped down of the economic fallout from the outbreak in the world’s second-biggest economy.\n",
            "Gpt2 sentences: The political disturbance which began in Uttarakhand on Saturday continued on Monday as chief minister Trivendra Singh Rawat rushed to Delhi cancelling his previously-announced engagements in Gairsain and Dehradun. --> The political disturbance which began in\n",
            "Similarity score: 0.7642869980476025\n",
            "\n",
            "Pair 27:\n",
            "English sentences: BAP has not found potential candidates to replace Chief Minister Kharke.\n",
            "Gpt2 sentences: Punjab Chief Minister Sushil Kumar Modi has appointed as many as 50,000 new posts in the country's second-biggest economy, barring any unforeseeable events, --> After a suspenseful period that began on Tuesday with the arrest of\n",
            "Similarity score: 0.7642869980476025\n",
            "\n",
            "Pair 28:\n",
            "English sentences: Rajasthan Chief Minister Vasundhara Raje, who has been in the target due to her government's inaction over the cases of lynching in the state, has claimed that such incidents happen all over the world, and to cite just Rajasthan's example was wrong.\n",
            "Gpt2 sentences: Rajasthan Chief Minister Vasundhara Raje, who has been in the target due to her government's inaction over the cases of lynching in the state, has claimed that such incidents happen all over the world, and to cite just Raj\n",
            "Similarity score: 0.7642869980476025\n",
            "\n",
            "Pair 29:\n",
            "English sentences: It was the BJP’s poll strategy to convice the people who are elected by the people, with its money power.\n",
            "Gpt2 sentences: It was the BJP’s poll strategy to convice the people who are elected by the people, with its money power.\n",
            "Chirag Paswan's run-in with the government in the state began in March this year when he embarked\n",
            "Similarity score: 0.7642869980476025\n",
            "\n",
            "Pair 30:\n",
            "English sentences: Chirag Paswan's run-in with the government in the state began in March this year when he embarked on a ''Bihar First Bihari First'' campaign which was viewed with doubts by the JD(U).\n",
            "Gpt2 sentences: Chirag Paswan's run-in with the government in the state began in March this year when he embarked on a ''Bihar First Bihari First'' campaign which was viewed with doubts by the JD(U).\n",
            "When 18-\n",
            "Similarity score: 0.7642869980476025\n",
            "\n",
            "Pair 31:\n",
            "English sentences: When 18-year-old Mahima Shah learnt that she has scored 79.2% in CBSE Class XII exams, it was a nice surprise for her and more than she expected\n",
            "Gpt2 sentences: Mahima Shah learnt that she has scored 79.2% in CBSE Class XII exams, it was a nice surprise for her and more than she expected\n",
            "hundreds of residents of Kolkata are still struggling to bounce back to life and are\n",
            "Similarity score: 0.7642869980476025\n",
            "\n",
            "Pair 32:\n",
            "English sentences: hundreds of residents of Kolkata are still having difficulties to bounce back to life and are pinning their hopes on the Union budget.\n",
            "Gpt2 sentences: Tens of thousands of residents of Kolkata are still having difficulties to bounce back to life and are pinning their hopes on the Union budget.\n",
            "The wicket-keeper batsman smashed 148 and the legend of Dhoni was born. --> The\n",
            "Similarity score: 0.7642869980476025\n",
            "\n",
            "Pair 33:\n",
            "English sentences: The wicket-keeper batsman smashed 148 and the era of Dhoni was born.\n",
            "Gpt2 sentences: Sidhu, who joined the Indian team only on Wednesday, 140, hit 148 and the greatest moment of his generation was born.\n",
            "Tottenham Hotspur (1) would go on to win the T20 tournament,”then go on to\n",
            "Similarity score: 0.7642869980476025\n",
            "\n",
            "Pair 34:\n",
            "English sentences: It meant going back to basics and working on areas of players' development that so many tiems gets overhyped.\n",
            "Gpt2 sentences: I think it meant going back to basics and working on areas of players' development that so many tiems gets overhyped.\n",
            "Manjhi has been meeting Nitish Kumar, who has taken the lead in bringing his former rival into the ruling\n",
            "Similarity score: 0.7642869980476025\n",
            "\n",
            "Pair 35:\n",
            "English sentences: Manjhi has been meeting Nitish Kumar, who has taken the lead in bringing his former opponent into the ruling alliance.\n",
            "Gpt2 sentences: After lunching at the Bhaban Singh House, where the two of them had dinner after work on Monday, Chief Minister Mamata Banerjee on Tuesday ordered a massive search operation for the bodies of four boys who drowned off Juhu Chow\n",
            "Similarity score: 0.7642869980476025\n",
            "\n",
            "Pair 36:\n",
            "English sentences: The Chirag Paswan-headed party has so far refrained from targeting the BJP and has been even praising Prime Minister Narendra Modi's leadership while keeping Nitish Kumar in its opposite.\n",
            "Gpt2 sentences: Many in the BJP say that the BJP is as irritated as the Congress in the propaganda that Modi's wind is blowing across the country.\n",
            "In doing so the BJP can commonly be seen as reversing a lifetime of by-elections in some states.\n",
            "Similarity score: 0.7642869980476025\n",
            "\n",
            "Pair 37:\n",
            "English sentences: This Fourth of July will go down as a remarkable day in the history of Delhi.\n",
            "Gpt2 sentences: On this Fourth of July, the city will be celebrating as a unique day in the history of Delhi.\n",
            "The appointment of tourism minister CT Ravi and Bengaluru South MP Tejasvi Surya to national-level BJP posts was not particularly\n",
            "Similarity score: 0.7642869980476025\n",
            "\n",
            "Pair 38:\n",
            "English sentences: The appointment of tourism minister CT Ravi and Bengaluru South MP Tejasvi Surya to national-level BJP posts was not specifically surprising, considering their relative popularity.\n",
            "Gpt2 sentences: I think the appointment of tourism minister CT Ravi and Bengaluru South MP Tejasvi Surya to national-level BJP posts was not specifically surprising, considering their relative popularity.\n",
            "Breathing down the neck of Samsung while moving ahead of\n",
            "Similarity score: 0.7642869980476025\n",
            "\n",
            "Pair 39:\n",
            "English sentences: staying under the list of Samsung while moving ahead of Apple last year.\n",
            "Gpt2 sentences: After a nice partnership with fashion house, Raytheon has decided to move ahead of Samsung this year.\n",
            "He won the by-polls from Kudlu and Nennela seat-bearers well done. --> He won the by-\n",
            "Similarity score: 0.7642869980476025\n",
            "\n",
            "Pair 40:\n",
            "English sentences: He came back later, issuing a statement in which he denied supporting the resolution.\n",
            "Gpt2 sentences: Opposition RJD and Congress, however, took on the saffron party for going in \"election mode” at a time the battle against coronavirus is yet to be won in a state where cases are still rising – as of Saturday evening\n",
            "Similarity score: 0.7642869980476025\n",
            "\n",
            "Pair 41:\n",
            "English sentences: After school hours, Mahima, who was a strong willed and intelligent , studies for five hours daily and does exercise for another two-and-a-half-hour\n",
            "Gpt2 sentences: Mahima, who was a strong willed and intelligent , studies for five hours daily and does exercise for another two-and-a-half-hour\n",
            "A large number of voters could be seen violating the Covid-19 rules of maintaining distance\n",
            "Similarity score: 0.7642869980476025\n",
            "\n",
            "Pair 42:\n",
            "English sentences: A large number of voters could be seen not following the covid-19 rules of maintaining distance and wearing a mask outside polling stations.\n",
            "Gpt2 sentences: I think There is likely to be much heartburn in the alliance during the seat-sharing talks among its partners for the elections to the 243-seat assembly.\n",
            "The decision not to contest from Bhowanipore was to blunt BJP barbs\n",
            "Similarity score: 0.7642869980476025\n",
            "\n",
            "Pair 43:\n",
            "English sentences: The decision not to contest from Bhowanipore was to destroy bjp barbs at her asking her to declare which seat she will represent.\n",
            "Gpt2 sentences: In what appears to be an insulting move for the Rashtriya Janta Dal (RJD) under 28-year-old Tejashwi Yadav, his open invitation to Union Minister Upendra Kushwaha to quit the NDA and\n",
            "Similarity score: 0.7642869980476025\n",
            "\n",
            "Pair 44:\n",
            "English sentences: This creates difficulties over his participation at the start of India’s tour of Australia, which is tentatively set to begin on 27 November.\n",
            "Gpt2 sentences: In what appears to be an embarrassing move for the Rashtriya Janta Dal (RJD) under 28-year-old Tejashwi Yadav, his open invitation to Union Minister Upendra Kushwaha to quit the NDA and\n",
            "Similarity score: 0.7642869980476025\n",
            "\n",
            "Pair 45:\n",
            "English sentences: Two British Sikh Labour MPs who support the Indian farmers’ agitation against the Centre’s new farm laws have showed their tension at the way “mobs and the police” are trying to clear the three protest sites on Delhi’s borders.\n",
            "Gpt2 sentences: British Sikh Labour MPs who support the Indian farmers’ agitation against the Centre’s new farm laws have showed their tension at the way “mobs and the police” are trying to clear the three protest sites on Delhi’s\n",
            "Similarity score: 0.7642869980476025\n",
            "\n",
            "Pair 46:\n",
            "English sentences: KXIP made a very bad start to their run-chase as they lost two wickets inside five overs.\n",
            "Gpt2 sentences: Thackeray led by RSS stalwart Bipin, launched a scathing attack on the Thackeray government and Prime Minister Narendra Modi.\n",
            "Modi, who made his mark as a Lok Sabha MP with a string of penumbra demands,\n",
            "Similarity score: 0.7642869980476025\n",
            "\n",
            "Pair 47:\n",
            "English sentences: After month-long social media campaign by Rander people, the Surat Municipal Corporation (SMC) finally responded to address the woes of the residents.\n",
            "Gpt2 sentences: I think It may be the beginning of a strange partnership between the two departments, but until then, I reiterate that I am confident in the latter.\n",
            "Battered by the pandemic last year, the Diamond City is hoping for a brighter future riding\n",
            "Similarity score: 0.7642869980476025\n",
            "\n",
            "Pair 48:\n",
            "English sentences: Battered by the pandemic last year, the Diamond City is hoping for a better future riding on three projects that are already refuelling the city’s growth.\n",
            "Gpt2 sentences: She made a strong start on her comeback trip by hitting the first three balls of the first over, and she gave her all in the second over.\n",
            "The Diamond City was a very important project for her because it was her birthday! --> The Diamond\n",
            "Similarity score: 0.7642869980476025\n",
            "\n",
            "Pair 49:\n",
            "English sentences: For city residents, the coming days are not that worthy at least when it comes to supply of drinking water.\n",
            "Gpt2 sentences: I think city residents, the coming days are not that worthy at least when it comes to supply of drinking water.\n",
            "Given the form Glenn Maxwell has been in this season, it was hardly surprising that he again piloted his team's chase with an\n",
            "Similarity score: 0.7642869980476025\n",
            "\n",
            "Pair 50:\n",
            "English sentences: Though people of all communities are going through all kinds of difficulties under the BJP government in UP,\n",
            "Gpt2 sentences: people of all communities are getting all kinds of difficulties under the BJP government in UP,\n",
            "Priyanka Gandhi hopes for justice under new Rajasthan law --> Priyanka Gandhi demands for justice under new Rajasthan law\n",
            "Morning walkers and\n",
            "Similarity score: 0.7642869980476025\n",
            "\n",
            "Pair 51:\n",
            "English sentences: Priyanka Gandhi demands for justice under new Rajasthan law.\n",
            "Gpt2 sentences: I think It sounds unfair , but Rajasthan law is very unfair .\n",
            "Vivek Gupta At the height of the anti-corruption movement in 2011 (led by Anna Hazare), an article in the by Ashutosh Varshney and\n",
            "Similarity score: 0.7642869980476025\n",
            "\n",
            "Pair 52:\n",
            "English sentences: Morning walkers and locals frequenting Kudlu Doddakere were on Friday excited to see tens of thousands of snails dead on the lake bund.\n",
            "Gpt2 sentences: eye level was very high when she washed up on the market.\n",
            "Country’s prime minister was busy chasing booths. --> Country’s prime minister was busy for booths.\n",
            "However, in the event India is able to host the England\n",
            "Similarity score: 0.7642869980476025\n",
            "\n",
            "Pair 53:\n",
            "English sentences: Country’s prime minister was busy for booths.\n",
            "Gpt2 sentences: The BJP leader was busy for booths.\n",
            "On the other hand, the Congress leader was busy for booths. --> On the other hand, the Congress leader was busy for booths.\n",
            "The Indian men and women team expressed their readiness to play every level\n",
            "Similarity score: 0.7642869980476025\n",
            "\n",
            "Pair 54:\n",
            "English sentences: However, in the event India is able to host the England team, Mumbai could be the best option to make a place with three international venues - Wankhede Stadium, Cricket Club of India and DY Patil Stadium.\n",
            "Gpt2 sentences: In the event India is able to host the England team, Mumbai could be the best option to make a place with three international venues - Wankhede Stadium, Cricket Club of India and DY Patil Stadium.\n",
            "But sadly, the market\n",
            "Similarity score: 0.7642869980476025\n",
            "\n",
            "Pair 55:\n",
            "English sentences: Unfortunately the market has been in limbo for a long time.\n",
            "Gpt2 sentences: I think sadly the market has been in limbo for a long time.\n",
            "If the Vyapam scam were today, it would be over two decades ago. --> I think If the Vyapam scam were today, it would be over\n",
            "Similarity score: 0.7642869980476025\n",
            "\n",
            "Pair 56:\n",
            "English sentences: Get started on these dishes and celebrate mangoes in real cultural manner;.\n",
            "Gpt2 sentences: I think They started with two main aims in mind, one was to show the public that they too could be a part of something amazing.\n",
            "And everywhere in this troubled swath of Myanmar's north, there is a growing sense that Beijing is trying to\n",
            "Similarity score: 0.7642869980476025\n",
            "\n",
            "Pair 57:\n",
            "English sentences: To go back on set after many monts was a nice experience for her\n",
            "Gpt2 sentences: back on set after many monts was a nice experience for her\n",
            "Germany did many things better in the second match, --> Germany did much better in the second match,\n",
            "Earlier in the day, Nadda launched a scathing attack on the T\n",
            "Similarity score: 0.7642869980476025\n",
            "\n",
            "Pair 58:\n",
            "English sentences: Germany did much better in the second match,\n",
            "Gpt2 sentences: They did a very bad job in the second match,\n",
            "Neanderthal giants may have a new look in an alliance with BJP leader and BJP leader Narendra Modi --> Neanderthal giants may have a new look in an alliance with BJP leader and BJP\n",
            "Similarity score: 0.7642869980476025\n",
            "\n",
            "Pair 59:\n",
            "English sentences: Earlier in the day, Nadda launched a fast attack on the TMC government.\n",
            "Gpt2 sentences: In the morning, Nadda launched a fast attack on the TMC government.\n",
            "Congress President Rahul Gandhi on Monday, 17 September, launched his party's campaign in poll-bound Madhya Pradesh, which is known to be a Bharatiya\n",
            "Similarity score: 0.7642869980476025\n",
            "\n",
            "Pair 60:\n",
            "English sentences: Senior BJP leader Shatrughan Sinha, on Sunday, 17 June, was present there again with his own party, this time over Delhi Chief Minister Arvind Kejriwal's ongoing dharma at the Lieutenant Governor's office.\n",
            "Gpt2 sentences: On Sunday, 17 June, was again at loggerheads with his own party, this time over Delhi Chief Minister Arvind Kejriwal's ongoing dharma at the Lieutenant Governor's office.\n",
            "A fascinating contest is on in Madhya Pradesh. --> A highly\n",
            "Similarity score: 0.7642869980476025\n",
            "\n",
            "mean similarity score is :  0.7642869980476023\n"
          ]
        }
      ]
    },
    {
      "cell_type": "code",
      "source": [
        "print('Accuracy of the model is : ' , sum(similarity_list_1)/len(similarity_list_1))"
      ],
      "metadata": {
        "colab": {
          "base_uri": "https://localhost:8080/"
        },
        "id": "neZHNXiPbmtk",
        "outputId": "fee99a1f-db40-46d0-eaaa-5b1caeb11ce4"
      },
      "execution_count": 66,
      "outputs": [
        {
          "output_type": "stream",
          "name": "stdout",
          "text": [
            "Accuracy of the model is :  0.7642869980476023\n"
          ]
        }
      ]
    },
    {
      "cell_type": "code",
      "source": [
        "import seaborn as sns\n",
        "import matplotlib.pyplot as plt\n",
        "import pandas as pd\n",
        "import tensorflow as tf\n",
        "\n",
        "\n",
        "# Create a DataFrame from the evaluated tensors\n",
        "df = pd.DataFrame({'septic ': similarity_list, 'pure': similarity_list_1})\n",
        "\n",
        "# Plot the graph using Seaborn\n",
        "sns.lineplot(data=df)\n",
        "\n",
        "# Show the plot\n",
        "plt.show()\n"
      ],
      "metadata": {
        "colab": {
          "base_uri": "https://localhost:8080/",
          "height": 430
        },
        "id": "7htyAUR6bA7W",
        "outputId": "276657f2-2e78-4777-9667-64c2f72a221a"
      },
      "execution_count": 67,
      "outputs": [
        {
          "output_type": "display_data",
          "data": {
            "text/plain": [
              "<Figure size 640x480 with 1 Axes>"
            ],
            "image/png": "[encoded data removed]"
          },
          "metadata": {}
        }
      ]
    },
    {
      "cell_type": "code",
      "source": [],
      "metadata": {
        "id": "F50hP_qjbX2G"
      },
      "execution_count": 67,
      "outputs": []
    }
  ]
}